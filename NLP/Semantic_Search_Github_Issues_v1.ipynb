{
  "cells": [
    {
      "cell_type": "markdown",
      "metadata": {
        "id": "puLx76HYMgkO"
      },
      "source": [
        "# Semantic search with FAISS (TensorFlow)"
      ]
    },
    {
      "cell_type": "markdown",
      "metadata": {
        "id": "F1Q5UWXlMgkR"
      },
      "source": [
        "Install the Transformers, Datasets, and Evaluate libraries to run this notebook."
      ]
    },
    {
      "cell_type": "code",
      "execution_count": 55,
      "metadata": {
        "id": "z993DscAMgkS",
        "outputId": "ce008bea-6d0c-40f1-d53b-cdf4937302bc",
        "colab": {
          "base_uri": "https://localhost:8080/"
        }
      },
      "outputs": [
        {
          "output_type": "stream",
          "name": "stdout",
          "text": [
            "Looking in indexes: https://pypi.org/simple, https://us-python.pkg.dev/colab-wheels/public/simple/\n",
            "Requirement already satisfied: datasets in /usr/local/lib/python3.10/dist-packages (2.12.0)\n",
            "Requirement already satisfied: evaluate in /usr/local/lib/python3.10/dist-packages (0.4.0)\n",
            "Requirement already satisfied: transformers[sentencepiece] in /usr/local/lib/python3.10/dist-packages (4.28.1)\n",
            "Requirement already satisfied: fsspec[http]>=2021.11.1 in /usr/local/lib/python3.10/dist-packages (from datasets) (2023.4.0)\n",
            "Requirement already satisfied: multiprocess in /usr/local/lib/python3.10/dist-packages (from datasets) (0.70.14)\n",
            "Requirement already satisfied: numpy>=1.17 in /usr/local/lib/python3.10/dist-packages (from datasets) (1.22.4)\n",
            "Requirement already satisfied: aiohttp in /usr/local/lib/python3.10/dist-packages (from datasets) (3.8.4)\n",
            "Requirement already satisfied: pandas in /usr/local/lib/python3.10/dist-packages (from datasets) (1.5.3)\n",
            "Requirement already satisfied: packaging in /usr/local/lib/python3.10/dist-packages (from datasets) (23.1)\n",
            "Requirement already satisfied: huggingface-hub<1.0.0,>=0.11.0 in /usr/local/lib/python3.10/dist-packages (from datasets) (0.14.1)\n",
            "Requirement already satisfied: requests>=2.19.0 in /usr/local/lib/python3.10/dist-packages (from datasets) (2.27.1)\n",
            "Requirement already satisfied: responses<0.19 in /usr/local/lib/python3.10/dist-packages (from datasets) (0.18.0)\n",
            "Requirement already satisfied: xxhash in /usr/local/lib/python3.10/dist-packages (from datasets) (3.2.0)\n",
            "Requirement already satisfied: tqdm>=4.62.1 in /usr/local/lib/python3.10/dist-packages (from datasets) (4.65.0)\n",
            "Requirement already satisfied: pyarrow>=8.0.0 in /usr/local/lib/python3.10/dist-packages (from datasets) (9.0.0)\n",
            "Requirement already satisfied: dill<0.3.7,>=0.3.0 in /usr/local/lib/python3.10/dist-packages (from datasets) (0.3.6)\n",
            "Requirement already satisfied: pyyaml>=5.1 in /usr/local/lib/python3.10/dist-packages (from datasets) (6.0)\n",
            "Requirement already satisfied: filelock in /usr/local/lib/python3.10/dist-packages (from transformers[sentencepiece]) (3.12.0)\n",
            "Requirement already satisfied: tokenizers!=0.11.3,<0.14,>=0.11.1 in /usr/local/lib/python3.10/dist-packages (from transformers[sentencepiece]) (0.13.3)\n",
            "Requirement already satisfied: regex!=2019.12.17 in /usr/local/lib/python3.10/dist-packages (from transformers[sentencepiece]) (2022.10.31)\n",
            "Requirement already satisfied: protobuf<=3.20.2 in /usr/local/lib/python3.10/dist-packages (from transformers[sentencepiece]) (3.20.2)\n",
            "Requirement already satisfied: sentencepiece!=0.1.92,>=0.1.91 in /usr/local/lib/python3.10/dist-packages (from transformers[sentencepiece]) (0.1.99)\n",
            "Requirement already satisfied: frozenlist>=1.1.1 in /usr/local/lib/python3.10/dist-packages (from aiohttp->datasets) (1.3.3)\n",
            "Requirement already satisfied: yarl<2.0,>=1.0 in /usr/local/lib/python3.10/dist-packages (from aiohttp->datasets) (1.9.2)\n",
            "Requirement already satisfied: multidict<7.0,>=4.5 in /usr/local/lib/python3.10/dist-packages (from aiohttp->datasets) (6.0.4)\n",
            "Requirement already satisfied: async-timeout<5.0,>=4.0.0a3 in /usr/local/lib/python3.10/dist-packages (from aiohttp->datasets) (4.0.2)\n",
            "Requirement already satisfied: charset-normalizer<4.0,>=2.0 in /usr/local/lib/python3.10/dist-packages (from aiohttp->datasets) (2.0.12)\n",
            "Requirement already satisfied: attrs>=17.3.0 in /usr/local/lib/python3.10/dist-packages (from aiohttp->datasets) (23.1.0)\n",
            "Requirement already satisfied: aiosignal>=1.1.2 in /usr/local/lib/python3.10/dist-packages (from aiohttp->datasets) (1.3.1)\n",
            "Requirement already satisfied: typing-extensions>=3.7.4.3 in /usr/local/lib/python3.10/dist-packages (from huggingface-hub<1.0.0,>=0.11.0->datasets) (4.5.0)\n",
            "Requirement already satisfied: certifi>=2017.4.17 in /usr/local/lib/python3.10/dist-packages (from requests>=2.19.0->datasets) (2022.12.7)\n",
            "Requirement already satisfied: idna<4,>=2.5 in /usr/local/lib/python3.10/dist-packages (from requests>=2.19.0->datasets) (3.4)\n",
            "Requirement already satisfied: urllib3<1.27,>=1.21.1 in /usr/local/lib/python3.10/dist-packages (from requests>=2.19.0->datasets) (1.26.15)\n",
            "Requirement already satisfied: pytz>=2020.1 in /usr/local/lib/python3.10/dist-packages (from pandas->datasets) (2022.7.1)\n",
            "Requirement already satisfied: python-dateutil>=2.8.1 in /usr/local/lib/python3.10/dist-packages (from pandas->datasets) (2.8.2)\n",
            "Requirement already satisfied: six>=1.5 in /usr/local/lib/python3.10/dist-packages (from python-dateutil>=2.8.1->pandas->datasets) (1.16.0)\n",
            "Looking in indexes: https://pypi.org/simple, https://us-python.pkg.dev/colab-wheels/public/simple/\n",
            "Requirement already satisfied: faiss-gpu in /usr/local/lib/python3.10/dist-packages (1.7.2)\n"
          ]
        }
      ],
      "source": [
        "!pip install datasets evaluate transformers[sentencepiece]\n",
        "!pip install faiss-gpu"
      ]
    },
    {
      "cell_type": "code",
      "source": [
        "import pandas as pd"
      ],
      "metadata": {
        "id": "dGVV9-asOljr"
      },
      "execution_count": 78,
      "outputs": []
    },
    {
      "cell_type": "code",
      "source": [
        "issues_df  = pd.read_csv('github_issues.csv')"
      ],
      "metadata": {
        "id": "9ehjwttHN20p"
      },
      "execution_count": 79,
      "outputs": []
    },
    {
      "cell_type": "code",
      "source": [
        "pd.set_option('max_colwidth', 1000)"
      ],
      "metadata": {
        "id": "sif4esIYO7YA"
      },
      "execution_count": 80,
      "outputs": []
    },
    {
      "cell_type": "code",
      "source": [
        "issues_df.head()"
      ],
      "metadata": {
        "id": "SfVWni03NHS9",
        "outputId": "37016e5f-6bee-4d69-83fa-cd948c39e419",
        "colab": {
          "base_uri": "https://localhost:8080/",
          "height": 756
        }
      },
      "execution_count": 81,
      "outputs": [
        {
          "output_type": "execute_result",
          "data": {
            "text/plain": [
              "                                              html_url  \\\n",
              "0  https://github.com/huggingface/datasets/issues/2945   \n",
              "1  https://github.com/huggingface/datasets/issues/2943   \n",
              "2  https://github.com/huggingface/datasets/issues/2941   \n",
              "3  https://github.com/huggingface/datasets/issues/2937   \n",
              "4  https://github.com/huggingface/datasets/issues/2934   \n",
              "\n",
              "                                                                                               title  \\\n",
              "0                                                                              Protect master branch   \n",
              "1                            Backwards compatibility broken for cached datasets that use `.filter()`   \n",
              "2                                          OSCAR unshuffled_original_ko: NonMatchingSplitsSizesError   \n",
              "3  load_dataset using default cache on Windows causes PermissionError: [WinError 5] Access is denied   \n",
              "4              to_tf_dataset keeps a reference to the open data somewhere, causing issues on windows   \n",
              "\n",
              "                                                                                                                                                                                                                                                                                                                                                                                                                                                                                                                                                                                                                                                                                                                                                                                                                                                                                                                                                                                                                                  comments  \\\n",
              "0                                                                                                                                                                                                                                                                                                                                                                                                                                                                                                                                                                     ['Cool, I think we can do both :)'\\n '@lhoestq now the 2 are implemented.\\r\\n\\r\\nPlease note that for the the second protection, finally I have chosen to protect the master branch only from **merge commits** (see update comment above), so no need to disable/re-enable the protection on each release (direct commits, different from merge commits, can be pushed to the remote master branch; and eventually reverted without messing up the repo history).']   \n",
              "1                                                                                                                                                                                     [\"Hi ! I guess the caching mechanism should have considered the new `filter` to be different from the old one, and don't use cached results from the old `filter`.\\r\\nTo avoid other users from having this issue we could make the caching differentiate the two, what do you think ?\"\\n \"If it's easy enough to implement, then yes please 😄  But this issue can be low-priority, since I've only encountered it in a couple of `transformers` CI tests.\"\\n \"Well it can cause issue with anyone that updates `datasets` and re-run some code that uses filter, so I'm creating a PR\"\\n \"I just merged a fix, let me know if you're still having this kind of issues :)\\r\\n\\r\\nWe'll do a release soon to make this fix available\"\\n 'Definitely works on several manual cases with our dummy datasets, thank you @lhoestq !'\\n 'Fixed by #2947.']   \n",
              "2                                                                                                                                                                                                                                                                                                                                                                                                                                                                                                                                                                                                                                                                                                                                                                                                                                                                                                                                                                          ['I tried `unshuffled_original_da` and it is also not working']   \n",
              "3  [\"Hi @daqieq, thanks for reporting.\\r\\n\\r\\nUnfortunately, I was not able to reproduce this bug:\\r\\n```ipython\\r\\nIn [1]: from datasets import load_dataset\\r\\n   ...: ds = load_dataset('wiki_bio')\\r\\nDownloading: 7.58kB [00:00, 26.3kB/s]\\r\\nDownloading: 2.71kB [00:00, ?B/s]\\r\\nUsing custom data configuration default\\r\\nDownloading and preparing dataset wiki_bio/default (download: 318.53 MiB, generated: 736.94 MiB, post-processed: Unknown size, total: 1.03 GiB) to C:\\\\Users\\\\username\\\\.cache\\\\huggingface\\\\datasets\\\\wiki_bio\\\\default\\\\\\r\\n1.1.0\\\\5293ce565954ba965dada626f1e79684e98172d950371d266bf3caaf87e911c9...\\r\\nDownloading: 334MB [01:17, 4.32MB/s]\\r\\nDataset wiki_bio downloaded and prepared to C:\\\\Users\\\\username\\\\.cache\\\\huggingface\\\\datasets\\\\wiki_bio\\\\default\\\\1.1.0\\\\5293ce565954ba965dada626f1e79684e98172d950371d266bf3caaf87e911c9. Subsequent calls will reuse thi\\r\\ns data.\\r\\n```\\r\\n\\r\\nThis kind of error messages usually happen because:\\r\\n- Your running Python script hasn't ...   \n",
              "4                                                                                                                                                                                                [\"I did some investigation and, as it seems, the bug stems from [this line](https://github.com/huggingface/datasets/blob/8004d7c3e1d74b29c3e5b0d1660331cd26758363/src/datasets/arrow_dataset.py#L325). The lifecycle of the dataset from the linked line is bound to one of the returned `tf.data.Dataset`. So my (hacky) solution involves wrapping the linked dataset with `weakref.proxy` and adding a custom `__del__` to `tf.python.data.ops.dataset_ops.TensorSliceDataset` (this is the type of a dataset that is returned by `tf.data.Dataset.from_tensor_slices`; this works for TF 2.x, but I'm not sure `tf.python.data.ops.dataset_ops` is a valid path for TF 1.x) that deletes the linked dataset, which is assigned to the dataset object as a property. Will open a draft PR soon!\"\\n 'Thanks a lot for investigating !']   \n",
              "\n",
              "                                                                                                                                                                                                                                                                                                                                                                                                                                                                                                                                                                                                                                                                                                                                                                                                                                                                                                                                                                                                                                      body  \n",
              "0  After accidental merge commit (91c55355b634d0dc73350a7ddee1a6776dbbdd69) into `datasets` master branch, all commits present in the feature branch were permanently added to `datasets` master branch history, as e.g.:\\r\\n- 00cc036fea7c7745cfe722360036ed306796a3f2\\r\\n- 13ae8c98602bbad8197de3b9b425f4c78f582af1\\r\\n- ...\\r\\n\\r\\nI propose to protect our master branch, so that we avoid we can accidentally make this kind of mistakes in the future:\\r\\n- [x] For Pull Requests using GitHub, allow only squash merging, so that only a single commit per Pull Request is merged into the master branch\\r\\n  - Currently, simple merge commits are already disabled\\r\\n  - I propose to disable rebase merging as well\\r\\n- ~~Protect the master branch from direct pushes (to avoid accidentally pushing of merge commits)~~\\r\\n  - ~~This protection would reject direct pushes to master branch~~\\r\\n  - ~~If so, for each release (when we need to commit directly to the master branch), we should previously disable the ...  \n",
              "1  ## Describe the bug\\r\\nAfter upgrading to datasets `1.12.0`, some cached `.filter()` steps from `1.11.0` started failing with \\r\\n`ValueError: Keys mismatch: between {'indices': Value(dtype='uint64', id=None)} and {'file': Value(dtype='string', id=None), 'text': Value(dtype='string', id=None), 'speaker_id': Value(dtype='int64', id=None), 'chapter_id': Value(dtype='int64', id=None), 'id': Value(dtype='string', id=None)}`\\r\\n\\r\\nRelated feature: https://github.com/huggingface/datasets/pull/2836\\r\\n\\r\\n:question:  This is probably a `wontfix` bug, since it can be solved by simply cleaning the related cache dirs, but the workaround could be useful for someone googling the error :) \\r\\n\\r\\n## Workaround\\r\\nRemove the cache for the given dataset, e.g. `rm -rf ~/.cache/huggingface/datasets/librispeech_asr`.\\r\\n\\r\\n## Steps to reproduce the bug\\r\\n1. Delete `~/.cache/huggingface/datasets/librispeech_asr` if it exists.\\r\\n\\r\\n2. `pip install datasets==1.11.0` and run the following snippet:\\...  \n",
              "2                                                                                                                                                                                                                    ## Describe the bug\\r\\n\\r\\nCannot download OSCAR `unshuffled_original_ko` due to `NonMatchingSplitsSizesError`.\\r\\n\\r\\n## Steps to reproduce the bug\\r\\n\\r\\n```python\\r\\n>>> dataset = datasets.load_dataset('oscar', 'unshuffled_original_ko')\\r\\nNonMatchingSplitsSizesError: [{'expected': SplitInfo(name='train', num_bytes=25292102197, num_examples=7345075, dataset_name='oscar'), 'recorded': SplitInfo(name='train', num_bytes=25284578514, num_examples=7344907, dataset_name='oscar')}]\\r\\n```\\r\\n\\r\\n## Expected results\\r\\n\\r\\nLoading is successful.\\r\\n\\r\\n## Actual results\\r\\n\\r\\nLoading throws above error.\\r\\n\\r\\n## Environment info\\r\\n\\r\\n- `datasets` version: 1.12.1\\r\\n- Platform: Linux-5.4.0-81-generic-x86_64-with-glibc2.29\\r\\n- Python version: 3.8.10\\r\\n- PyArrow version: 5.0.0\\r\\n  \n",
              "3  ## Describe the bug\\r\\nStandard process to download and load the wiki_bio dataset causes PermissionError in Windows 10 and 11.\\r\\n\\r\\n## Steps to reproduce the bug\\r\\n```python\\r\\nfrom datasets import load_dataset\\r\\nds = load_dataset('wiki_bio')\\r\\n```\\r\\n\\r\\n## Expected results\\r\\nIt is expected that the dataset downloads without any errors.\\r\\n\\r\\n## Actual results\\r\\nPermissionError see trace below:\\r\\n```\\r\\nUsing custom data configuration default\\r\\nDownloading and preparing dataset wiki_bio/default (download: 318.53 MiB, generated: 736.94 MiB, post-processed: Unknown size, total: 1.03 GiB) to C:\\Users\\username\\.cache\\huggingface\\datasets\\wiki_bio\\default\\1.1.0\\5293ce565954ba965dada626f1e79684e98172d950371d266bf3caaf87e911c9...\\r\\nTraceback (most recent call last):\\r\\n  File \"<stdin>\", line 1, in <module>\\r\\n  File \"C:\\Users\\username\\.conda\\envs\\hf\\lib\\site-packages\\datasets\\load.py\", line 1112, in load_dataset\\r\\n    builder_instance.download_and_prepare(\\r\\n  File \"C:\\Users...  \n",
              "4                                                                                                                                                                                                                                                                                                                   To reproduce:\\r\\n```python\\r\\nimport datasets as ds\\r\\nimport weakref\\r\\nimport gc\\r\\n\\r\\nd = ds.load_dataset(\"mnist\", split=\"train\")\\r\\nref = weakref.ref(d._data.table)\\r\\ntfd = d.to_tf_dataset(\"image\", batch_size=1, shuffle=False, label_cols=\"label\")\\r\\ndel tfd, d\\r\\ngc.collect()\\r\\nassert ref() is None, \"Error: there is at least one reference left\"\\r\\n```\\r\\n\\r\\nThis causes issues because the table holds a reference to an open arrow file that should be closed. So on windows it's not possible to delete or move the arrow file afterwards.\\r\\n\\r\\nMoreover the CI test of the `to_tf_dataset` method isn't able to clean up the temporary arrow files because of this.\\r\\n\\r\\ncc @Rocketknight1   "
            ],
            "text/html": [
              "\n",
              "  <div id=\"df-f6fa0058-d7ec-46df-84f9-ab074a5a4a83\">\n",
              "    <div class=\"colab-df-container\">\n",
              "      <div>\n",
              "<style scoped>\n",
              "    .dataframe tbody tr th:only-of-type {\n",
              "        vertical-align: middle;\n",
              "    }\n",
              "\n",
              "    .dataframe tbody tr th {\n",
              "        vertical-align: top;\n",
              "    }\n",
              "\n",
              "    .dataframe thead th {\n",
              "        text-align: right;\n",
              "    }\n",
              "</style>\n",
              "<table border=\"1\" class=\"dataframe\">\n",
              "  <thead>\n",
              "    <tr style=\"text-align: right;\">\n",
              "      <th></th>\n",
              "      <th>html_url</th>\n",
              "      <th>title</th>\n",
              "      <th>comments</th>\n",
              "      <th>body</th>\n",
              "    </tr>\n",
              "  </thead>\n",
              "  <tbody>\n",
              "    <tr>\n",
              "      <th>0</th>\n",
              "      <td>https://github.com/huggingface/datasets/issues/2945</td>\n",
              "      <td>Protect master branch</td>\n",
              "      <td>['Cool, I think we can do both :)'\\n '@lhoestq now the 2 are implemented.\\r\\n\\r\\nPlease note that for the the second protection, finally I have chosen to protect the master branch only from **merge commits** (see update comment above), so no need to disable/re-enable the protection on each release (direct commits, different from merge commits, can be pushed to the remote master branch; and eventually reverted without messing up the repo history).']</td>\n",
              "      <td>After accidental merge commit (91c55355b634d0dc73350a7ddee1a6776dbbdd69) into `datasets` master branch, all commits present in the feature branch were permanently added to `datasets` master branch history, as e.g.:\\r\\n- 00cc036fea7c7745cfe722360036ed306796a3f2\\r\\n- 13ae8c98602bbad8197de3b9b425f4c78f582af1\\r\\n- ...\\r\\n\\r\\nI propose to protect our master branch, so that we avoid we can accidentally make this kind of mistakes in the future:\\r\\n- [x] For Pull Requests using GitHub, allow only squash merging, so that only a single commit per Pull Request is merged into the master branch\\r\\n  - Currently, simple merge commits are already disabled\\r\\n  - I propose to disable rebase merging as well\\r\\n- ~~Protect the master branch from direct pushes (to avoid accidentally pushing of merge commits)~~\\r\\n  - ~~This protection would reject direct pushes to master branch~~\\r\\n  - ~~If so, for each release (when we need to commit directly to the master branch), we should previously disable the ...</td>\n",
              "    </tr>\n",
              "    <tr>\n",
              "      <th>1</th>\n",
              "      <td>https://github.com/huggingface/datasets/issues/2943</td>\n",
              "      <td>Backwards compatibility broken for cached datasets that use `.filter()`</td>\n",
              "      <td>[\"Hi ! I guess the caching mechanism should have considered the new `filter` to be different from the old one, and don't use cached results from the old `filter`.\\r\\nTo avoid other users from having this issue we could make the caching differentiate the two, what do you think ?\"\\n \"If it's easy enough to implement, then yes please 😄  But this issue can be low-priority, since I've only encountered it in a couple of `transformers` CI tests.\"\\n \"Well it can cause issue with anyone that updates `datasets` and re-run some code that uses filter, so I'm creating a PR\"\\n \"I just merged a fix, let me know if you're still having this kind of issues :)\\r\\n\\r\\nWe'll do a release soon to make this fix available\"\\n 'Definitely works on several manual cases with our dummy datasets, thank you @lhoestq !'\\n 'Fixed by #2947.']</td>\n",
              "      <td>## Describe the bug\\r\\nAfter upgrading to datasets `1.12.0`, some cached `.filter()` steps from `1.11.0` started failing with \\r\\n`ValueError: Keys mismatch: between {'indices': Value(dtype='uint64', id=None)} and {'file': Value(dtype='string', id=None), 'text': Value(dtype='string', id=None), 'speaker_id': Value(dtype='int64', id=None), 'chapter_id': Value(dtype='int64', id=None), 'id': Value(dtype='string', id=None)}`\\r\\n\\r\\nRelated feature: https://github.com/huggingface/datasets/pull/2836\\r\\n\\r\\n:question:  This is probably a `wontfix` bug, since it can be solved by simply cleaning the related cache dirs, but the workaround could be useful for someone googling the error :) \\r\\n\\r\\n## Workaround\\r\\nRemove the cache for the given dataset, e.g. `rm -rf ~/.cache/huggingface/datasets/librispeech_asr`.\\r\\n\\r\\n## Steps to reproduce the bug\\r\\n1. Delete `~/.cache/huggingface/datasets/librispeech_asr` if it exists.\\r\\n\\r\\n2. `pip install datasets==1.11.0` and run the following snippet:\\...</td>\n",
              "    </tr>\n",
              "    <tr>\n",
              "      <th>2</th>\n",
              "      <td>https://github.com/huggingface/datasets/issues/2941</td>\n",
              "      <td>OSCAR unshuffled_original_ko: NonMatchingSplitsSizesError</td>\n",
              "      <td>['I tried `unshuffled_original_da` and it is also not working']</td>\n",
              "      <td>## Describe the bug\\r\\n\\r\\nCannot download OSCAR `unshuffled_original_ko` due to `NonMatchingSplitsSizesError`.\\r\\n\\r\\n## Steps to reproduce the bug\\r\\n\\r\\n```python\\r\\n&gt;&gt;&gt; dataset = datasets.load_dataset('oscar', 'unshuffled_original_ko')\\r\\nNonMatchingSplitsSizesError: [{'expected': SplitInfo(name='train', num_bytes=25292102197, num_examples=7345075, dataset_name='oscar'), 'recorded': SplitInfo(name='train', num_bytes=25284578514, num_examples=7344907, dataset_name='oscar')}]\\r\\n```\\r\\n\\r\\n## Expected results\\r\\n\\r\\nLoading is successful.\\r\\n\\r\\n## Actual results\\r\\n\\r\\nLoading throws above error.\\r\\n\\r\\n## Environment info\\r\\n\\r\\n- `datasets` version: 1.12.1\\r\\n- Platform: Linux-5.4.0-81-generic-x86_64-with-glibc2.29\\r\\n- Python version: 3.8.10\\r\\n- PyArrow version: 5.0.0\\r\\n</td>\n",
              "    </tr>\n",
              "    <tr>\n",
              "      <th>3</th>\n",
              "      <td>https://github.com/huggingface/datasets/issues/2937</td>\n",
              "      <td>load_dataset using default cache on Windows causes PermissionError: [WinError 5] Access is denied</td>\n",
              "      <td>[\"Hi @daqieq, thanks for reporting.\\r\\n\\r\\nUnfortunately, I was not able to reproduce this bug:\\r\\n```ipython\\r\\nIn [1]: from datasets import load_dataset\\r\\n   ...: ds = load_dataset('wiki_bio')\\r\\nDownloading: 7.58kB [00:00, 26.3kB/s]\\r\\nDownloading: 2.71kB [00:00, ?B/s]\\r\\nUsing custom data configuration default\\r\\nDownloading and preparing dataset wiki_bio/default (download: 318.53 MiB, generated: 736.94 MiB, post-processed: Unknown size, total: 1.03 GiB) to C:\\\\Users\\\\username\\\\.cache\\\\huggingface\\\\datasets\\\\wiki_bio\\\\default\\\\\\r\\n1.1.0\\\\5293ce565954ba965dada626f1e79684e98172d950371d266bf3caaf87e911c9...\\r\\nDownloading: 334MB [01:17, 4.32MB/s]\\r\\nDataset wiki_bio downloaded and prepared to C:\\\\Users\\\\username\\\\.cache\\\\huggingface\\\\datasets\\\\wiki_bio\\\\default\\\\1.1.0\\\\5293ce565954ba965dada626f1e79684e98172d950371d266bf3caaf87e911c9. Subsequent calls will reuse thi\\r\\ns data.\\r\\n```\\r\\n\\r\\nThis kind of error messages usually happen because:\\r\\n- Your running Python script hasn't ...</td>\n",
              "      <td>## Describe the bug\\r\\nStandard process to download and load the wiki_bio dataset causes PermissionError in Windows 10 and 11.\\r\\n\\r\\n## Steps to reproduce the bug\\r\\n```python\\r\\nfrom datasets import load_dataset\\r\\nds = load_dataset('wiki_bio')\\r\\n```\\r\\n\\r\\n## Expected results\\r\\nIt is expected that the dataset downloads without any errors.\\r\\n\\r\\n## Actual results\\r\\nPermissionError see trace below:\\r\\n```\\r\\nUsing custom data configuration default\\r\\nDownloading and preparing dataset wiki_bio/default (download: 318.53 MiB, generated: 736.94 MiB, post-processed: Unknown size, total: 1.03 GiB) to C:\\Users\\username\\.cache\\huggingface\\datasets\\wiki_bio\\default\\1.1.0\\5293ce565954ba965dada626f1e79684e98172d950371d266bf3caaf87e911c9...\\r\\nTraceback (most recent call last):\\r\\n  File \"&lt;stdin&gt;\", line 1, in &lt;module&gt;\\r\\n  File \"C:\\Users\\username\\.conda\\envs\\hf\\lib\\site-packages\\datasets\\load.py\", line 1112, in load_dataset\\r\\n    builder_instance.download_and_prepare(\\r\\n  File \"C:\\Users...</td>\n",
              "    </tr>\n",
              "    <tr>\n",
              "      <th>4</th>\n",
              "      <td>https://github.com/huggingface/datasets/issues/2934</td>\n",
              "      <td>to_tf_dataset keeps a reference to the open data somewhere, causing issues on windows</td>\n",
              "      <td>[\"I did some investigation and, as it seems, the bug stems from [this line](https://github.com/huggingface/datasets/blob/8004d7c3e1d74b29c3e5b0d1660331cd26758363/src/datasets/arrow_dataset.py#L325). The lifecycle of the dataset from the linked line is bound to one of the returned `tf.data.Dataset`. So my (hacky) solution involves wrapping the linked dataset with `weakref.proxy` and adding a custom `__del__` to `tf.python.data.ops.dataset_ops.TensorSliceDataset` (this is the type of a dataset that is returned by `tf.data.Dataset.from_tensor_slices`; this works for TF 2.x, but I'm not sure `tf.python.data.ops.dataset_ops` is a valid path for TF 1.x) that deletes the linked dataset, which is assigned to the dataset object as a property. Will open a draft PR soon!\"\\n 'Thanks a lot for investigating !']</td>\n",
              "      <td>To reproduce:\\r\\n```python\\r\\nimport datasets as ds\\r\\nimport weakref\\r\\nimport gc\\r\\n\\r\\nd = ds.load_dataset(\"mnist\", split=\"train\")\\r\\nref = weakref.ref(d._data.table)\\r\\ntfd = d.to_tf_dataset(\"image\", batch_size=1, shuffle=False, label_cols=\"label\")\\r\\ndel tfd, d\\r\\ngc.collect()\\r\\nassert ref() is None, \"Error: there is at least one reference left\"\\r\\n```\\r\\n\\r\\nThis causes issues because the table holds a reference to an open arrow file that should be closed. So on windows it's not possible to delete or move the arrow file afterwards.\\r\\n\\r\\nMoreover the CI test of the `to_tf_dataset` method isn't able to clean up the temporary arrow files because of this.\\r\\n\\r\\ncc @Rocketknight1</td>\n",
              "    </tr>\n",
              "  </tbody>\n",
              "</table>\n",
              "</div>\n",
              "      <button class=\"colab-df-convert\" onclick=\"convertToInteractive('df-f6fa0058-d7ec-46df-84f9-ab074a5a4a83')\"\n",
              "              title=\"Convert this dataframe to an interactive table.\"\n",
              "              style=\"display:none;\">\n",
              "        \n",
              "  <svg xmlns=\"http://www.w3.org/2000/svg\" height=\"24px\"viewBox=\"0 0 24 24\"\n",
              "       width=\"24px\">\n",
              "    <path d=\"M0 0h24v24H0V0z\" fill=\"none\"/>\n",
              "    <path d=\"M18.56 5.44l.94 2.06.94-2.06 2.06-.94-2.06-.94-.94-2.06-.94 2.06-2.06.94zm-11 1L8.5 8.5l.94-2.06 2.06-.94-2.06-.94L8.5 2.5l-.94 2.06-2.06.94zm10 10l.94 2.06.94-2.06 2.06-.94-2.06-.94-.94-2.06-.94 2.06-2.06.94z\"/><path d=\"M17.41 7.96l-1.37-1.37c-.4-.4-.92-.59-1.43-.59-.52 0-1.04.2-1.43.59L10.3 9.45l-7.72 7.72c-.78.78-.78 2.05 0 2.83L4 21.41c.39.39.9.59 1.41.59.51 0 1.02-.2 1.41-.59l7.78-7.78 2.81-2.81c.8-.78.8-2.07 0-2.86zM5.41 20L4 18.59l7.72-7.72 1.47 1.35L5.41 20z\"/>\n",
              "  </svg>\n",
              "      </button>\n",
              "      \n",
              "  <style>\n",
              "    .colab-df-container {\n",
              "      display:flex;\n",
              "      flex-wrap:wrap;\n",
              "      gap: 12px;\n",
              "    }\n",
              "\n",
              "    .colab-df-convert {\n",
              "      background-color: #E8F0FE;\n",
              "      border: none;\n",
              "      border-radius: 50%;\n",
              "      cursor: pointer;\n",
              "      display: none;\n",
              "      fill: #1967D2;\n",
              "      height: 32px;\n",
              "      padding: 0 0 0 0;\n",
              "      width: 32px;\n",
              "    }\n",
              "\n",
              "    .colab-df-convert:hover {\n",
              "      background-color: #E2EBFA;\n",
              "      box-shadow: 0px 1px 2px rgba(60, 64, 67, 0.3), 0px 1px 3px 1px rgba(60, 64, 67, 0.15);\n",
              "      fill: #174EA6;\n",
              "    }\n",
              "\n",
              "    [theme=dark] .colab-df-convert {\n",
              "      background-color: #3B4455;\n",
              "      fill: #D2E3FC;\n",
              "    }\n",
              "\n",
              "    [theme=dark] .colab-df-convert:hover {\n",
              "      background-color: #434B5C;\n",
              "      box-shadow: 0px 1px 3px 1px rgba(0, 0, 0, 0.15);\n",
              "      filter: drop-shadow(0px 1px 2px rgba(0, 0, 0, 0.3));\n",
              "      fill: #FFFFFF;\n",
              "    }\n",
              "  </style>\n",
              "\n",
              "      <script>\n",
              "        const buttonEl =\n",
              "          document.querySelector('#df-f6fa0058-d7ec-46df-84f9-ab074a5a4a83 button.colab-df-convert');\n",
              "        buttonEl.style.display =\n",
              "          google.colab.kernel.accessAllowed ? 'block' : 'none';\n",
              "\n",
              "        async function convertToInteractive(key) {\n",
              "          const element = document.querySelector('#df-f6fa0058-d7ec-46df-84f9-ab074a5a4a83');\n",
              "          const dataTable =\n",
              "            await google.colab.kernel.invokeFunction('convertToInteractive',\n",
              "                                                     [key], {});\n",
              "          if (!dataTable) return;\n",
              "\n",
              "          const docLinkHtml = 'Like what you see? Visit the ' +\n",
              "            '<a target=\"_blank\" href=https://colab.research.google.com/notebooks/data_table.ipynb>data table notebook</a>'\n",
              "            + ' to learn more about interactive tables.';\n",
              "          element.innerHTML = '';\n",
              "          dataTable['output_type'] = 'display_data';\n",
              "          await google.colab.output.renderOutput(dataTable, element);\n",
              "          const docLink = document.createElement('div');\n",
              "          docLink.innerHTML = docLinkHtml;\n",
              "          element.appendChild(docLink);\n",
              "        }\n",
              "      </script>\n",
              "    </div>\n",
              "  </div>\n",
              "  "
            ]
          },
          "metadata": {},
          "execution_count": 81
        }
      ]
    },
    {
      "cell_type": "code",
      "source": [
        "issues_df.info()"
      ],
      "metadata": {
        "id": "W0BYtbrDOCuP",
        "outputId": "73d88f5f-fc86-47c0-90a3-172f6c864252",
        "colab": {
          "base_uri": "https://localhost:8080/"
        }
      },
      "execution_count": 82,
      "outputs": [
        {
          "output_type": "stream",
          "name": "stdout",
          "text": [
            "<class 'pandas.core.frame.DataFrame'>\n",
            "RangeIndex: 808 entries, 0 to 807\n",
            "Data columns (total 4 columns):\n",
            " #   Column    Non-Null Count  Dtype \n",
            "---  ------    --------------  ----- \n",
            " 0   html_url  808 non-null    object\n",
            " 1   title     808 non-null    object\n",
            " 2   comments  808 non-null    object\n",
            " 3   body      805 non-null    object\n",
            "dtypes: object(4)\n",
            "memory usage: 25.4+ KB\n"
          ]
        }
      ]
    },
    {
      "cell_type": "code",
      "source": [
        "issues_df.body.fillna(\"No text\", inplace = True)"
      ],
      "metadata": {
        "id": "1ZXXPrafwKfF"
      },
      "execution_count": 83,
      "outputs": []
    },
    {
      "cell_type": "code",
      "source": [
        "issues_df.info()"
      ],
      "metadata": {
        "id": "A4vuMwnYwSac",
        "outputId": "377553ae-0248-4d78-fe15-7f4364db1500",
        "colab": {
          "base_uri": "https://localhost:8080/"
        }
      },
      "execution_count": 84,
      "outputs": [
        {
          "output_type": "stream",
          "name": "stdout",
          "text": [
            "<class 'pandas.core.frame.DataFrame'>\n",
            "RangeIndex: 808 entries, 0 to 807\n",
            "Data columns (total 4 columns):\n",
            " #   Column    Non-Null Count  Dtype \n",
            "---  ------    --------------  ----- \n",
            " 0   html_url  808 non-null    object\n",
            " 1   title     808 non-null    object\n",
            " 2   comments  808 non-null    object\n",
            " 3   body      808 non-null    object\n",
            "dtypes: object(4)\n",
            "memory usage: 25.4+ KB\n"
          ]
        }
      ]
    },
    {
      "cell_type": "code",
      "source": [
        "issues_df['comment_length'] = issues_df['comments'].map(lambda x: len(x.split()))"
      ],
      "metadata": {
        "id": "yKn815gqjCJO"
      },
      "execution_count": 85,
      "outputs": []
    },
    {
      "cell_type": "code",
      "source": [
        "issues_df.head(2)"
      ],
      "metadata": {
        "id": "112GFDF8jSSU",
        "outputId": "09a82aec-5270-4678-d9f5-255806c57213",
        "colab": {
          "base_uri": "https://localhost:8080/",
          "height": 1000
        }
      },
      "execution_count": 86,
      "outputs": [
        {
          "output_type": "execute_result",
          "data": {
            "text/plain": [
              "                                              html_url  \\\n",
              "0  https://github.com/huggingface/datasets/issues/2945   \n",
              "1  https://github.com/huggingface/datasets/issues/2943   \n",
              "\n",
              "                                                                     title  \\\n",
              "0                                                    Protect master branch   \n",
              "1  Backwards compatibility broken for cached datasets that use `.filter()`   \n",
              "\n",
              "                                                                                                                                                                                                                                                                                                                                                                                                                                                                                                                                                                                                                                                                                                                                                                                                                                               comments  \\\n",
              "0                                                                                                                                                                                                                                                                                                                                                                                  ['Cool, I think we can do both :)'\\n '@lhoestq now the 2 are implemented.\\r\\n\\r\\nPlease note that for the the second protection, finally I have chosen to protect the master branch only from **merge commits** (see update comment above), so no need to disable/re-enable the protection on each release (direct commits, different from merge commits, can be pushed to the remote master branch; and eventually reverted without messing up the repo history).']   \n",
              "1  [\"Hi ! I guess the caching mechanism should have considered the new `filter` to be different from the old one, and don't use cached results from the old `filter`.\\r\\nTo avoid other users from having this issue we could make the caching differentiate the two, what do you think ?\"\\n \"If it's easy enough to implement, then yes please 😄  But this issue can be low-priority, since I've only encountered it in a couple of `transformers` CI tests.\"\\n \"Well it can cause issue with anyone that updates `datasets` and re-run some code that uses filter, so I'm creating a PR\"\\n \"I just merged a fix, let me know if you're still having this kind of issues :)\\r\\n\\r\\nWe'll do a release soon to make this fix available\"\\n 'Definitely works on several manual cases with our dummy datasets, thank you @lhoestq !'\\n 'Fixed by #2947.']   \n",
              "\n",
              "                                                                                                                                                                                                                                                                                                                                                                                                                                                                                                                                                                                                                                                                                                                                                                                                                                                                                                                                                                                                                                      body  \\\n",
              "0  After accidental merge commit (91c55355b634d0dc73350a7ddee1a6776dbbdd69) into `datasets` master branch, all commits present in the feature branch were permanently added to `datasets` master branch history, as e.g.:\\r\\n- 00cc036fea7c7745cfe722360036ed306796a3f2\\r\\n- 13ae8c98602bbad8197de3b9b425f4c78f582af1\\r\\n- ...\\r\\n\\r\\nI propose to protect our master branch, so that we avoid we can accidentally make this kind of mistakes in the future:\\r\\n- [x] For Pull Requests using GitHub, allow only squash merging, so that only a single commit per Pull Request is merged into the master branch\\r\\n  - Currently, simple merge commits are already disabled\\r\\n  - I propose to disable rebase merging as well\\r\\n- ~~Protect the master branch from direct pushes (to avoid accidentally pushing of merge commits)~~\\r\\n  - ~~This protection would reject direct pushes to master branch~~\\r\\n  - ~~If so, for each release (when we need to commit directly to the master branch), we should previously disable the ...   \n",
              "1  ## Describe the bug\\r\\nAfter upgrading to datasets `1.12.0`, some cached `.filter()` steps from `1.11.0` started failing with \\r\\n`ValueError: Keys mismatch: between {'indices': Value(dtype='uint64', id=None)} and {'file': Value(dtype='string', id=None), 'text': Value(dtype='string', id=None), 'speaker_id': Value(dtype='int64', id=None), 'chapter_id': Value(dtype='int64', id=None), 'id': Value(dtype='string', id=None)}`\\r\\n\\r\\nRelated feature: https://github.com/huggingface/datasets/pull/2836\\r\\n\\r\\n:question:  This is probably a `wontfix` bug, since it can be solved by simply cleaning the related cache dirs, but the workaround could be useful for someone googling the error :) \\r\\n\\r\\n## Workaround\\r\\nRemove the cache for the given dataset, e.g. `rm -rf ~/.cache/huggingface/datasets/librispeech_asr`.\\r\\n\\r\\n## Steps to reproduce the bug\\r\\n1. Delete `~/.cache/huggingface/datasets/librispeech_asr` if it exists.\\r\\n\\r\\n2. `pip install datasets==1.11.0` and run the following snippet:\\...   \n",
              "\n",
              "   comment_length  \n",
              "0              71  \n",
              "1             142  "
            ],
            "text/html": [
              "\n",
              "  <div id=\"df-5a47b91a-c819-47f1-a139-6d885b4497ba\">\n",
              "    <div class=\"colab-df-container\">\n",
              "      <div>\n",
              "<style scoped>\n",
              "    .dataframe tbody tr th:only-of-type {\n",
              "        vertical-align: middle;\n",
              "    }\n",
              "\n",
              "    .dataframe tbody tr th {\n",
              "        vertical-align: top;\n",
              "    }\n",
              "\n",
              "    .dataframe thead th {\n",
              "        text-align: right;\n",
              "    }\n",
              "</style>\n",
              "<table border=\"1\" class=\"dataframe\">\n",
              "  <thead>\n",
              "    <tr style=\"text-align: right;\">\n",
              "      <th></th>\n",
              "      <th>html_url</th>\n",
              "      <th>title</th>\n",
              "      <th>comments</th>\n",
              "      <th>body</th>\n",
              "      <th>comment_length</th>\n",
              "    </tr>\n",
              "  </thead>\n",
              "  <tbody>\n",
              "    <tr>\n",
              "      <th>0</th>\n",
              "      <td>https://github.com/huggingface/datasets/issues/2945</td>\n",
              "      <td>Protect master branch</td>\n",
              "      <td>['Cool, I think we can do both :)'\\n '@lhoestq now the 2 are implemented.\\r\\n\\r\\nPlease note that for the the second protection, finally I have chosen to protect the master branch only from **merge commits** (see update comment above), so no need to disable/re-enable the protection on each release (direct commits, different from merge commits, can be pushed to the remote master branch; and eventually reverted without messing up the repo history).']</td>\n",
              "      <td>After accidental merge commit (91c55355b634d0dc73350a7ddee1a6776dbbdd69) into `datasets` master branch, all commits present in the feature branch were permanently added to `datasets` master branch history, as e.g.:\\r\\n- 00cc036fea7c7745cfe722360036ed306796a3f2\\r\\n- 13ae8c98602bbad8197de3b9b425f4c78f582af1\\r\\n- ...\\r\\n\\r\\nI propose to protect our master branch, so that we avoid we can accidentally make this kind of mistakes in the future:\\r\\n- [x] For Pull Requests using GitHub, allow only squash merging, so that only a single commit per Pull Request is merged into the master branch\\r\\n  - Currently, simple merge commits are already disabled\\r\\n  - I propose to disable rebase merging as well\\r\\n- ~~Protect the master branch from direct pushes (to avoid accidentally pushing of merge commits)~~\\r\\n  - ~~This protection would reject direct pushes to master branch~~\\r\\n  - ~~If so, for each release (when we need to commit directly to the master branch), we should previously disable the ...</td>\n",
              "      <td>71</td>\n",
              "    </tr>\n",
              "    <tr>\n",
              "      <th>1</th>\n",
              "      <td>https://github.com/huggingface/datasets/issues/2943</td>\n",
              "      <td>Backwards compatibility broken for cached datasets that use `.filter()`</td>\n",
              "      <td>[\"Hi ! I guess the caching mechanism should have considered the new `filter` to be different from the old one, and don't use cached results from the old `filter`.\\r\\nTo avoid other users from having this issue we could make the caching differentiate the two, what do you think ?\"\\n \"If it's easy enough to implement, then yes please 😄  But this issue can be low-priority, since I've only encountered it in a couple of `transformers` CI tests.\"\\n \"Well it can cause issue with anyone that updates `datasets` and re-run some code that uses filter, so I'm creating a PR\"\\n \"I just merged a fix, let me know if you're still having this kind of issues :)\\r\\n\\r\\nWe'll do a release soon to make this fix available\"\\n 'Definitely works on several manual cases with our dummy datasets, thank you @lhoestq !'\\n 'Fixed by #2947.']</td>\n",
              "      <td>## Describe the bug\\r\\nAfter upgrading to datasets `1.12.0`, some cached `.filter()` steps from `1.11.0` started failing with \\r\\n`ValueError: Keys mismatch: between {'indices': Value(dtype='uint64', id=None)} and {'file': Value(dtype='string', id=None), 'text': Value(dtype='string', id=None), 'speaker_id': Value(dtype='int64', id=None), 'chapter_id': Value(dtype='int64', id=None), 'id': Value(dtype='string', id=None)}`\\r\\n\\r\\nRelated feature: https://github.com/huggingface/datasets/pull/2836\\r\\n\\r\\n:question:  This is probably a `wontfix` bug, since it can be solved by simply cleaning the related cache dirs, but the workaround could be useful for someone googling the error :) \\r\\n\\r\\n## Workaround\\r\\nRemove the cache for the given dataset, e.g. `rm -rf ~/.cache/huggingface/datasets/librispeech_asr`.\\r\\n\\r\\n## Steps to reproduce the bug\\r\\n1. Delete `~/.cache/huggingface/datasets/librispeech_asr` if it exists.\\r\\n\\r\\n2. `pip install datasets==1.11.0` and run the following snippet:\\...</td>\n",
              "      <td>142</td>\n",
              "    </tr>\n",
              "  </tbody>\n",
              "</table>\n",
              "</div>\n",
              "      <button class=\"colab-df-convert\" onclick=\"convertToInteractive('df-5a47b91a-c819-47f1-a139-6d885b4497ba')\"\n",
              "              title=\"Convert this dataframe to an interactive table.\"\n",
              "              style=\"display:none;\">\n",
              "        \n",
              "  <svg xmlns=\"http://www.w3.org/2000/svg\" height=\"24px\"viewBox=\"0 0 24 24\"\n",
              "       width=\"24px\">\n",
              "    <path d=\"M0 0h24v24H0V0z\" fill=\"none\"/>\n",
              "    <path d=\"M18.56 5.44l.94 2.06.94-2.06 2.06-.94-2.06-.94-.94-2.06-.94 2.06-2.06.94zm-11 1L8.5 8.5l.94-2.06 2.06-.94-2.06-.94L8.5 2.5l-.94 2.06-2.06.94zm10 10l.94 2.06.94-2.06 2.06-.94-2.06-.94-.94-2.06-.94 2.06-2.06.94z\"/><path d=\"M17.41 7.96l-1.37-1.37c-.4-.4-.92-.59-1.43-.59-.52 0-1.04.2-1.43.59L10.3 9.45l-7.72 7.72c-.78.78-.78 2.05 0 2.83L4 21.41c.39.39.9.59 1.41.59.51 0 1.02-.2 1.41-.59l7.78-7.78 2.81-2.81c.8-.78.8-2.07 0-2.86zM5.41 20L4 18.59l7.72-7.72 1.47 1.35L5.41 20z\"/>\n",
              "  </svg>\n",
              "      </button>\n",
              "      \n",
              "  <style>\n",
              "    .colab-df-container {\n",
              "      display:flex;\n",
              "      flex-wrap:wrap;\n",
              "      gap: 12px;\n",
              "    }\n",
              "\n",
              "    .colab-df-convert {\n",
              "      background-color: #E8F0FE;\n",
              "      border: none;\n",
              "      border-radius: 50%;\n",
              "      cursor: pointer;\n",
              "      display: none;\n",
              "      fill: #1967D2;\n",
              "      height: 32px;\n",
              "      padding: 0 0 0 0;\n",
              "      width: 32px;\n",
              "    }\n",
              "\n",
              "    .colab-df-convert:hover {\n",
              "      background-color: #E2EBFA;\n",
              "      box-shadow: 0px 1px 2px rgba(60, 64, 67, 0.3), 0px 1px 3px 1px rgba(60, 64, 67, 0.15);\n",
              "      fill: #174EA6;\n",
              "    }\n",
              "\n",
              "    [theme=dark] .colab-df-convert {\n",
              "      background-color: #3B4455;\n",
              "      fill: #D2E3FC;\n",
              "    }\n",
              "\n",
              "    [theme=dark] .colab-df-convert:hover {\n",
              "      background-color: #434B5C;\n",
              "      box-shadow: 0px 1px 3px 1px rgba(0, 0, 0, 0.15);\n",
              "      filter: drop-shadow(0px 1px 2px rgba(0, 0, 0, 0.3));\n",
              "      fill: #FFFFFF;\n",
              "    }\n",
              "  </style>\n",
              "\n",
              "      <script>\n",
              "        const buttonEl =\n",
              "          document.querySelector('#df-5a47b91a-c819-47f1-a139-6d885b4497ba button.colab-df-convert');\n",
              "        buttonEl.style.display =\n",
              "          google.colab.kernel.accessAllowed ? 'block' : 'none';\n",
              "\n",
              "        async function convertToInteractive(key) {\n",
              "          const element = document.querySelector('#df-5a47b91a-c819-47f1-a139-6d885b4497ba');\n",
              "          const dataTable =\n",
              "            await google.colab.kernel.invokeFunction('convertToInteractive',\n",
              "                                                     [key], {});\n",
              "          if (!dataTable) return;\n",
              "\n",
              "          const docLinkHtml = 'Like what you see? Visit the ' +\n",
              "            '<a target=\"_blank\" href=https://colab.research.google.com/notebooks/data_table.ipynb>data table notebook</a>'\n",
              "            + ' to learn more about interactive tables.';\n",
              "          element.innerHTML = '';\n",
              "          dataTable['output_type'] = 'display_data';\n",
              "          await google.colab.output.renderOutput(dataTable, element);\n",
              "          const docLink = document.createElement('div');\n",
              "          docLink.innerHTML = docLinkHtml;\n",
              "          element.appendChild(docLink);\n",
              "        }\n",
              "      </script>\n",
              "    </div>\n",
              "  </div>\n",
              "  "
            ]
          },
          "metadata": {},
          "execution_count": 86
        }
      ]
    },
    {
      "cell_type": "code",
      "source": [
        "issues_df = issues_df[issues_df.comment_length > 15]"
      ],
      "metadata": {
        "id": "62kfF2jHj71O"
      },
      "execution_count": 87,
      "outputs": []
    },
    {
      "cell_type": "code",
      "source": [
        "issues_df['alltext'] = issues_df['title'] + issues_df['comments'] + issues_df['body']"
      ],
      "metadata": {
        "id": "LNW4W2ACjaPK"
      },
      "execution_count": 88,
      "outputs": []
    },
    {
      "cell_type": "code",
      "source": [
        "issues_df.info()"
      ],
      "metadata": {
        "id": "dcFvk85ojjz6",
        "outputId": "4adae8d2-544b-4a6d-abd2-0255f370b0dc",
        "colab": {
          "base_uri": "https://localhost:8080/"
        }
      },
      "execution_count": 89,
      "outputs": [
        {
          "output_type": "stream",
          "name": "stdout",
          "text": [
            "<class 'pandas.core.frame.DataFrame'>\n",
            "Int64Index: 713 entries, 0 to 807\n",
            "Data columns (total 6 columns):\n",
            " #   Column          Non-Null Count  Dtype \n",
            "---  ------          --------------  ----- \n",
            " 0   html_url        713 non-null    object\n",
            " 1   title           713 non-null    object\n",
            " 2   comments        713 non-null    object\n",
            " 3   body            713 non-null    object\n",
            " 4   comment_length  713 non-null    int64 \n",
            " 5   alltext         713 non-null    object\n",
            "dtypes: int64(1), object(5)\n",
            "memory usage: 39.0+ KB\n"
          ]
        }
      ]
    },
    {
      "cell_type": "code",
      "execution_count": 93,
      "metadata": {
        "id": "n7_kdrsUMgkW",
        "outputId": "d6215793-c8da-4458-e524-da16b7e7d01f",
        "colab": {
          "base_uri": "https://localhost:8080/"
        }
      },
      "outputs": [
        {
          "output_type": "execute_result",
          "data": {
            "text/plain": [
              "Dataset({\n",
              "    features: ['html_url', 'title', 'comments', 'body', 'comment_length', 'alltext', '__index_level_0__'],\n",
              "    num_rows: 713\n",
              "})"
            ]
          },
          "metadata": {},
          "execution_count": 93
        }
      ],
      "source": [
        "from datasets import Dataset\n",
        "\n",
        "issues_dataset = Dataset.from_pandas(issues_df)\n",
        "issues_dataset"
      ]
    },
    {
      "cell_type": "code",
      "execution_count": 94,
      "metadata": {
        "id": "ba9UzOvTMgkY",
        "outputId": "379d9f4b-182a-46e4-b4cd-92488b94cd1f",
        "colab": {
          "base_uri": "https://localhost:8080/"
        }
      },
      "outputs": [
        {
          "output_type": "stream",
          "name": "stderr",
          "text": [
            "Some weights of the PyTorch model were not used when initializing the TF 2.0 model TFMPNetModel: ['embeddings.position_ids']\n",
            "- This IS expected if you are initializing TFMPNetModel from a PyTorch model trained on another task or with another architecture (e.g. initializing a TFBertForSequenceClassification model from a BertForPreTraining model).\n",
            "- This IS NOT expected if you are initializing TFMPNetModel from a PyTorch model that you expect to be exactly identical (e.g. initializing a TFBertForSequenceClassification model from a BertForSequenceClassification model).\n",
            "All the weights of TFMPNetModel were initialized from the PyTorch model.\n",
            "If your task is similar to the task the model of the checkpoint was trained on, you can already use TFMPNetModel for predictions without further training.\n"
          ]
        }
      ],
      "source": [
        "from transformers import AutoTokenizer, TFAutoModel\n",
        "\n",
        "model_ckpt = \"sentence-transformers/multi-qa-mpnet-base-dot-v1\"\n",
        "tokenizer = AutoTokenizer.from_pretrained(model_ckpt)\n",
        "model = TFAutoModel.from_pretrained(model_ckpt, from_pt=True)"
      ]
    },
    {
      "cell_type": "code",
      "execution_count": 95,
      "metadata": {
        "id": "g2O2TFp1MgkY"
      },
      "outputs": [],
      "source": [
        "def cls_pooling(model_output):\n",
        "    return model_output.last_hidden_state[:, 0]"
      ]
    },
    {
      "cell_type": "code",
      "execution_count": 96,
      "metadata": {
        "id": "lOzt3h4TMgkY"
      },
      "outputs": [],
      "source": [
        "def get_embeddings(text_list):\n",
        "    encoded_input = tokenizer(\n",
        "        text_list, padding=True, truncation=True, return_tensors=\"tf\"\n",
        "    )\n",
        "    encoded_input = {k: v for k, v in encoded_input.items()}\n",
        "    model_output = model(**encoded_input)\n",
        "    return cls_pooling(model_output)"
      ]
    },
    {
      "cell_type": "code",
      "execution_count": 97,
      "metadata": {
        "id": "yi0BACtdMgkZ",
        "outputId": "f56fb9a8-add3-456d-e717-e6a0ddc44d9b",
        "colab": {
          "base_uri": "https://localhost:8080/"
        }
      },
      "outputs": [
        {
          "output_type": "execute_result",
          "data": {
            "text/plain": [
              "TensorShape([1, 768])"
            ]
          },
          "metadata": {},
          "execution_count": 97
        }
      ],
      "source": [
        "embedding = get_embeddings(issues_dataset[\"alltext\"][0])\n",
        "embedding.shape"
      ]
    },
    {
      "cell_type": "code",
      "source": [
        "embedding[0:1]"
      ],
      "metadata": {
        "id": "a5oMhcaJkbRi",
        "outputId": "a204c8fb-2313-40c1-db9b-d0c9627a5f06",
        "colab": {
          "base_uri": "https://localhost:8080/"
        }
      },
      "execution_count": 98,
      "outputs": [
        {
          "output_type": "execute_result",
          "data": {
            "text/plain": [
              "<tf.Tensor: shape=(1, 768), dtype=float32, numpy=\n",
              "array([[-1.73256457e-01, -7.45784268e-02, -1.29896492e-01,\n",
              "        -1.91489965e-01, -2.53821760e-01, -2.37534806e-01,\n",
              "         1.72121376e-01,  2.30887443e-01, -3.39684263e-02,\n",
              "        -1.02802664e-02,  2.30401605e-01, -3.47656347e-02,\n",
              "        -1.21524930e-01,  2.46941462e-01, -4.85174544e-02,\n",
              "         1.59288332e-01,  1.60679877e-01,  3.09095345e-02,\n",
              "        -1.09926477e-01, -3.74729186e-03, -5.27047366e-03,\n",
              "        -8.98313373e-02,  1.90739408e-01,  5.71844056e-02,\n",
              "        -5.15568368e-02, -4.92822677e-02,  7.48017877e-02,\n",
              "         1.71193346e-01, -4.42930341e-01, -4.17683303e-01,\n",
              "         9.23647732e-02,  2.22596422e-01, -3.05245630e-02,\n",
              "         5.22523046e-01, -9.90139379e-05,  4.36451882e-02,\n",
              "         2.02781215e-01,  2.80355811e-02, -1.27011716e-01,\n",
              "        -2.62358546e-01, -4.68172342e-01, -4.17620450e-01,\n",
              "        -1.07307851e-01, -9.51803550e-02,  1.65016726e-01,\n",
              "        -4.29863967e-02, -2.01586802e-02,  7.90846497e-02,\n",
              "         3.79226804e-01,  5.77013269e-02,  2.98206717e-01,\n",
              "        -3.11007667e-02,  1.26115695e-01, -3.54889706e-02,\n",
              "         3.65600407e-01,  4.53589380e-01, -1.02214217e-01,\n",
              "         2.30593145e-01,  5.50937131e-02,  1.44754589e-01,\n",
              "         3.75560746e-02,  2.02154934e-01, -6.71000555e-02,\n",
              "        -2.55400956e-01,  2.24190265e-01, -8.07880685e-02,\n",
              "         4.67035890e-01, -3.78317803e-01, -2.61775702e-01,\n",
              "        -9.97603089e-02,  1.18571669e-01, -1.34355396e-01,\n",
              "        -3.89858097e-01, -1.61458120e-01, -1.63262650e-01,\n",
              "        -2.74203718e-03,  8.09445456e-02,  2.34573692e-01,\n",
              "         1.79389343e-02,  4.44260947e-02, -4.00917530e-01,\n",
              "        -2.13865712e-01, -4.24225628e-02,  7.41922632e-02,\n",
              "         6.69639111e-02, -9.96243954e-02,  3.34849469e-02,\n",
              "        -1.02548420e-01,  2.11414814e-01, -7.04638958e-02,\n",
              "        -1.43907234e-01, -3.64987820e-01, -5.66632673e-02,\n",
              "        -6.18000925e-02, -1.83201954e-02, -2.11701602e-01,\n",
              "        -1.66459620e-01, -2.68800229e-01,  4.17538494e-01,\n",
              "         4.47971165e-01, -3.61044168e-01, -1.73315890e-02,\n",
              "        -5.54834194e-02,  6.92381859e-02,  1.37826905e-01,\n",
              "         1.68267876e-01,  5.05802184e-02,  2.02957541e-02,\n",
              "         5.77226460e-01,  2.28416204e-01,  2.13326514e-02,\n",
              "         2.77019829e-01,  3.14194739e-01, -5.96774183e-02,\n",
              "        -3.05309519e-02,  5.14388263e-01,  4.08094943e-01,\n",
              "        -2.31390983e-01,  1.59472898e-01,  2.17390060e-01,\n",
              "        -2.10803211e-01, -3.50922048e-01,  1.11193307e-01,\n",
              "        -5.30251116e-02,  1.23838276e-01,  7.99705535e-02,\n",
              "        -1.54705316e-01,  3.00708301e-02,  1.14163324e-01,\n",
              "         6.22090325e-02, -2.95262069e-01, -6.96834475e-02,\n",
              "        -3.57840240e-01,  8.52734037e-03,  1.86243445e-01,\n",
              "        -3.82682860e-01,  2.58171678e-01,  3.81648660e-01,\n",
              "        -3.63494940e-02, -8.62434059e-02,  1.04362637e-01,\n",
              "        -7.70976767e-03,  5.63985296e-02,  2.76776612e-01,\n",
              "        -1.06664300e-01, -4.30401951e-01,  5.99699095e-02,\n",
              "         1.26324385e-01, -9.35048610e-02,  1.68620273e-01,\n",
              "        -2.73184329e-02, -2.00661629e-01,  1.99750978e-02,\n",
              "         3.64314884e-01, -1.13102302e-01,  2.48701915e-01,\n",
              "        -4.69046026e-01,  1.69960260e-01, -6.01706654e-03,\n",
              "         3.02294254e-01,  3.96214694e-01,  3.19908351e-01,\n",
              "         3.04371536e-01, -1.92963228e-01,  2.56731063e-02,\n",
              "         1.43834963e-01,  3.10953379e-01, -5.19476980e-02,\n",
              "         5.12431152e-02, -3.68383914e-01,  6.94602355e-03,\n",
              "         1.69017300e-01, -3.86291057e-01,  5.39160371e-02,\n",
              "         1.05303824e-02, -4.27013636e-02,  1.00225531e-01,\n",
              "        -1.73423529e-01, -7.04395846e-02, -5.15988842e-02,\n",
              "        -2.84076512e-01,  4.26360071e-02,  5.20319119e-02,\n",
              "        -1.20825246e-01,  2.26600647e-01, -4.03815120e-01,\n",
              "        -1.09874576e-01,  1.83822885e-01, -1.64947003e-01,\n",
              "         1.31606907e-02, -2.87240267e-01, -5.99227905e-01,\n",
              "        -1.63798317e-01, -5.72503060e-02,  1.81831390e-01,\n",
              "         2.42061347e-01,  2.82022685e-01, -6.86065033e-02,\n",
              "        -1.22694261e-02, -8.92397612e-02, -2.82174721e-03,\n",
              "         9.85493138e-03,  3.53817493e-01, -1.54895589e-01,\n",
              "        -3.00882459e-01,  8.69332999e-03, -3.86828184e-01,\n",
              "         6.37243539e-02, -1.21231608e-01,  2.34236009e-04,\n",
              "        -2.97627971e-03, -2.92030275e-01,  2.55979478e-01,\n",
              "        -5.95126860e-02, -5.11309728e-02, -1.37104094e-01,\n",
              "         3.05361837e-01,  1.58016130e-01, -1.06790498e-01,\n",
              "        -2.19680324e-01, -2.88199216e-01,  2.07197353e-01,\n",
              "        -2.64328718e-01,  2.67256528e-01,  1.33568764e-01,\n",
              "         1.09694146e-01, -1.42063618e-01,  1.23335496e-02,\n",
              "        -3.62986922e-02,  2.76934296e-01,  1.62237719e-01,\n",
              "        -9.02819633e-02,  1.67434514e-02,  2.65887916e-01,\n",
              "        -7.98739493e-02,  1.90511346e-01,  2.07297996e-01,\n",
              "         4.03949261e-01,  4.13040102e-01, -3.97945195e-02,\n",
              "         8.25328380e-02, -5.32534011e-02, -1.68426447e-02,\n",
              "         7.53343254e-02, -3.38130504e-01,  3.51190507e-01,\n",
              "         1.01821885e-01, -8.88992399e-02, -4.36564423e-02,\n",
              "        -2.17306793e-01, -1.43867731e-01, -2.20015466e-01,\n",
              "        -2.42340028e-01, -7.97678381e-02, -2.06021011e-01,\n",
              "         2.01819211e-01, -2.34230742e-01,  2.18220621e-01,\n",
              "        -2.93974936e-01,  1.45637587e-01,  5.42884693e-02,\n",
              "        -2.11999148e-01, -1.19879134e-01,  5.38810976e-02,\n",
              "         3.14186811e-02, -1.23777911e-01,  9.86375287e-02,\n",
              "         4.26857769e-01,  1.56786025e-01,  2.31593877e-01,\n",
              "         9.16721672e-02,  1.89805422e-02,  2.03879744e-01,\n",
              "        -1.71607524e-01,  3.48493695e-01,  1.36047363e-01,\n",
              "        -6.33749515e-02,  7.97685236e-02,  2.31430039e-01,\n",
              "         1.01525940e-01,  9.34319347e-02,  2.61885107e-01,\n",
              "        -3.92116457e-02, -1.04600908e-02, -1.38878435e-01,\n",
              "        -1.23346850e-01, -2.25141943e-01, -4.68761474e-01,\n",
              "         1.85943350e-01, -1.45769715e-01, -2.39493549e-01,\n",
              "        -6.28297105e-02,  6.47640526e-02,  9.85864252e-02,\n",
              "        -6.58068657e-01,  1.12643808e-01,  1.53305456e-01,\n",
              "         2.15073645e-01, -4.02262658e-01,  2.59633157e-02,\n",
              "         1.00068524e-01, -4.48834300e-02,  7.49936700e-02,\n",
              "         2.17627391e-01,  2.90923238e-01, -2.15164274e-01,\n",
              "         4.82176125e-01,  1.64075136e-01, -1.97485477e-01,\n",
              "        -4.53993291e-01, -3.39351654e-01,  4.83923852e-02,\n",
              "        -1.67542309e-01, -6.53406754e-02,  2.21251845e-02,\n",
              "        -1.20337486e-01,  1.91972226e-01, -3.87391984e-01,\n",
              "        -2.08710819e-01, -1.02656461e-01, -3.68679404e-01,\n",
              "        -2.58666933e-01,  6.94291890e-02, -7.46059790e-03,\n",
              "        -2.64596283e-01, -1.74681559e-01, -4.29154307e-01,\n",
              "        -3.77093732e-01,  4.30305988e-01,  6.58173710e-02,\n",
              "         1.66479170e-01, -3.76133807e-02, -2.52520531e-01,\n",
              "        -6.56445399e-02,  9.78003442e-02,  1.92332298e-01,\n",
              "        -5.22156730e-02, -3.80898267e-01,  7.55829811e-02,\n",
              "        -2.20994622e-01, -1.09806471e-02,  2.72256494e-01,\n",
              "         1.51111320e-01, -3.09589028e-01,  1.38370514e-01,\n",
              "        -2.80466944e-01, -2.22709417e-01, -9.78139192e-02,\n",
              "         5.02140045e-01,  3.08263123e-01, -2.64916644e-02,\n",
              "         6.22730851e-02,  1.64943218e-01, -2.89520860e-01,\n",
              "        -4.81521226e-02, -1.37894228e-01,  1.56826705e-01,\n",
              "         2.53208041e-01,  1.08513519e-01,  1.16717860e-01,\n",
              "         1.74054086e-01, -4.80554402e-02,  7.00589776e-01,\n",
              "         3.23758870e-01,  3.71581665e-03,  1.27000719e-01,\n",
              "         3.20907831e-01,  9.28519759e-03, -1.18537247e-02,\n",
              "        -2.23377675e-01,  8.38107020e-02, -5.41637391e-02,\n",
              "        -3.60280834e-02,  2.34638482e-01, -1.12838238e-01,\n",
              "        -1.73988253e-01, -1.06785297e-01, -4.61614728e-01,\n",
              "        -2.60523185e-02, -3.78015608e-01, -1.85071096e-01,\n",
              "        -2.57748753e-01,  1.93313807e-01, -3.22529599e-02,\n",
              "        -3.81565601e-01,  9.98931527e-02,  1.13126740e-01,\n",
              "         1.71599090e-01,  2.63880312e-01,  1.78341061e-01,\n",
              "         1.53463334e-01, -1.00253291e-01,  5.19973785e-03,\n",
              "        -1.34717330e-01, -8.79368633e-02,  9.50439647e-03,\n",
              "         4.30916622e-02,  6.07328489e-02, -2.47011900e-01,\n",
              "        -1.99154653e-02, -4.66877110e-02,  2.21817568e-01,\n",
              "         6.15527257e-02,  3.30898836e-02, -2.76021898e-01,\n",
              "        -4.59794909e-01,  5.22898972e-01, -2.43177086e-01,\n",
              "         1.72399387e-01,  2.61973947e-01,  3.57333809e-01,\n",
              "         3.84383947e-01, -3.77637655e-01, -2.23180413e-01,\n",
              "         1.21725976e-01,  6.97309449e-02,  2.34973639e-01,\n",
              "         1.32349640e-01,  1.34626642e-01,  1.83967263e-01,\n",
              "        -4.35051173e-01,  1.83693558e-01,  8.27175528e-02,\n",
              "        -3.24964792e-01, -1.47453979e-01, -1.67461708e-02,\n",
              "        -1.43755600e-03,  7.98938051e-02,  3.84815708e-02,\n",
              "        -6.85274079e-02, -2.34287698e-02, -1.56530812e-01,\n",
              "         1.45490408e-01,  4.23301645e-02,  1.49380356e-01,\n",
              "         4.33611542e-01,  5.16150594e-01,  6.71457648e-02,\n",
              "        -2.74627954e-01, -4.51869518e-02, -2.10721865e-01,\n",
              "        -7.96588734e-02,  3.25723648e-01,  1.68072596e-01,\n",
              "         2.15965480e-01,  2.60853805e-02,  1.59314305e-01,\n",
              "        -8.22639763e-02, -2.97435910e-01, -2.05096290e-01,\n",
              "        -3.73915732e-02, -4.79062758e-02, -4.65013646e-02,\n",
              "         7.08850771e-02, -6.09452985e-02, -2.04785615e-01,\n",
              "        -3.78096290e-02,  1.62651956e-01, -3.82920355e-01,\n",
              "         8.52381960e-02,  4.77370203e-01,  9.75440741e-01,\n",
              "         4.49167788e-01,  5.80032654e-02, -1.58830523e-01,\n",
              "        -3.18109185e-01,  3.74316424e-01, -3.55421722e-01,\n",
              "        -1.95177928e-01, -1.57740295e-01, -1.39101326e-01,\n",
              "        -1.66355968e-01, -2.71425009e-01, -2.95927376e-02,\n",
              "        -3.23399335e-01, -3.72747600e-01,  1.05901584e-01,\n",
              "        -1.37975410e-01,  5.33603072e-01, -1.11288186e-02,\n",
              "         1.62759572e-01,  1.84506997e-01, -1.48486078e-01,\n",
              "         1.23443171e-01,  2.67036080e-01,  6.84321374e-02,\n",
              "         5.29624484e-02, -1.26768768e-01, -3.89577657e-01,\n",
              "        -2.87532285e-02,  1.50290206e-02, -1.77620336e-01,\n",
              "         8.17153603e-02, -3.29159528e-01,  1.33762106e-01,\n",
              "        -2.41260886e-01, -2.93815911e-01, -1.84448399e-02,\n",
              "        -1.09971903e-01,  5.85658312e-01,  1.33534536e-01,\n",
              "         2.08340678e-02, -4.84705716e-02,  2.97343463e-01,\n",
              "         5.08608222e-01, -2.22383842e-01, -2.02098399e-01,\n",
              "         5.35802603e-01, -3.22850764e-01, -1.25035882e-01,\n",
              "        -1.48347437e-01, -8.65739584e-02, -2.27478251e-01,\n",
              "        -2.02797383e-01, -1.04963176e-01, -2.50728786e-01,\n",
              "         1.01169735e-01,  9.29183885e-02,  3.01070064e-01,\n",
              "        -1.94654167e-01, -1.61265850e-01,  2.20462158e-01,\n",
              "         6.40717447e-02, -7.19867572e-02, -9.14098620e-02,\n",
              "        -1.74687907e-01, -1.93234727e-01, -1.23971477e-01,\n",
              "         7.55690858e-02,  1.62225381e-01, -9.45340097e-02,\n",
              "        -5.82524613e-02,  2.68227309e-02, -3.41990918e-01,\n",
              "        -2.61381656e-01, -2.57584959e-01,  9.31062549e-02,\n",
              "        -1.47534713e-01,  1.03106111e-01, -5.06984293e-01,\n",
              "        -3.75183344e-01,  4.36560623e-02,  2.98663378e-01,\n",
              "         3.38609278e-01,  2.92082518e-01,  1.25785440e-01,\n",
              "        -1.93995088e-02, -3.18630874e-01,  2.33788386e-01,\n",
              "        -2.28598952e-01,  1.82303548e-01,  1.84057802e-02,\n",
              "         1.76046103e-01, -4.30865735e-02, -5.50417230e-04,\n",
              "        -4.67290133e-01,  8.33184347e-02, -1.25222027e-01,\n",
              "         8.46528783e-02, -1.49399340e-01, -1.52877003e-01,\n",
              "         7.56805837e-02, -2.13765115e-01,  9.88518372e-02,\n",
              "        -8.60244483e-02, -1.85022771e-01, -3.43921900e-01,\n",
              "         9.81788039e-02,  4.60799858e-02,  4.52756770e-02,\n",
              "        -1.81941062e-01, -4.83230203e-02, -1.60529464e-02,\n",
              "         1.41463757e-01,  2.76331544e-01,  3.93321633e-01,\n",
              "        -1.64111063e-01,  1.03789791e-01,  3.96583229e-04,\n",
              "         1.13758802e-01,  1.46169335e-01, -9.68446955e-02,\n",
              "         1.22186646e-01,  6.53202608e-02, -2.01026648e-01,\n",
              "        -1.24919459e-01,  2.64786631e-01, -1.74266130e-01,\n",
              "        -2.56689757e-01, -1.94859013e-01,  2.29781017e-01,\n",
              "         1.13449179e-01,  5.88578522e-01,  2.14356676e-01,\n",
              "         2.71954119e-01, -2.83757031e-01,  1.85563952e-01,\n",
              "         3.99093442e-02, -1.52984634e-03, -4.41171117e-02,\n",
              "        -6.87187240e-02, -7.50130638e-02,  3.79276603e-01,\n",
              "        -1.25918314e-02, -1.75645500e-01,  1.78980798e-01,\n",
              "         1.01915844e-01,  1.16555735e-01,  1.41704798e-01,\n",
              "         4.11559522e-01,  1.37252867e-01, -1.38128802e-01,\n",
              "         4.01230603e-01,  3.18050236e-01, -8.57173502e-02,\n",
              "         4.90594804e-01,  3.88949335e-01, -7.92528316e-02,\n",
              "         5.56787439e-02, -1.10719480e-01,  5.86956926e-02,\n",
              "         2.01081991e-01, -2.73051471e-01,  8.71934593e-02,\n",
              "         3.24979961e-01,  5.86582899e-01, -2.37624288e-01,\n",
              "         4.72373307e-01,  9.75100994e-02,  3.18801492e-01,\n",
              "         1.95205554e-01,  5.76918758e-02, -1.99571639e-01,\n",
              "         4.26061988e-01,  2.04241082e-01,  2.78784782e-01,\n",
              "        -5.85314810e-01,  1.57508090e-01,  4.48750913e-01,\n",
              "         1.11186653e-01,  1.22263663e-01, -5.27455330e-01,\n",
              "        -1.54542327e-01, -1.07411131e-01, -5.34903221e-02,\n",
              "        -5.42421192e-02,  1.18077859e-01,  1.01762891e-01,\n",
              "         3.05912018e-01,  8.15242901e-03, -1.03191376e-01,\n",
              "        -1.84716359e-02,  8.55383426e-02,  2.43949801e-01,\n",
              "        -1.36961788e-01, -1.33661792e-01,  4.42637861e-01,\n",
              "        -2.22928032e-01,  9.43365693e-02,  2.77366132e-01,\n",
              "         1.26576442e-02, -5.18184062e-03, -1.69002600e-02,\n",
              "         1.96951151e-01,  4.39712524e-01, -1.32361054e-01,\n",
              "        -1.59626573e-01,  4.81729247e-02, -1.45428881e-01,\n",
              "         1.78774670e-01,  9.90526304e-02,  3.34557950e-01,\n",
              "        -1.50052965e-01,  1.74139291e-01, -2.24277265e-02,\n",
              "        -5.13676941e-01, -3.04824486e-03,  3.86745751e-01,\n",
              "         4.78728563e-01, -3.44014019e-01,  4.76965368e-01,\n",
              "         1.42463297e-01,  1.64835319e-01, -2.11243648e-02,\n",
              "         2.66791552e-01, -1.21660456e-01,  1.45283118e-01,\n",
              "        -5.61862327e-02,  1.70795530e-01,  1.49107985e-02,\n",
              "         2.76344448e-01,  9.53382105e-02, -1.10195670e-02,\n",
              "        -1.20322645e-01, -2.66131163e-02, -6.26872629e-02,\n",
              "         1.08955830e-01,  2.28527188e-01,  9.99208763e-02,\n",
              "         2.27735132e-01, -2.17854947e-01,  1.61784321e-01,\n",
              "         1.86470836e-01, -1.04326412e-01, -3.25917542e-01,\n",
              "        -6.96685910e-02,  5.89377843e-02, -3.38351309e-01,\n",
              "         5.90194091e-02,  2.31698155e-01, -6.68566898e-02,\n",
              "         1.32694915e-02,  6.38900250e-02,  2.40217015e-01,\n",
              "         7.88801312e-02,  1.95049554e-01,  7.25139230e-02,\n",
              "        -2.99505964e-02,  3.84270430e-01, -4.09646869e-01,\n",
              "         2.46990263e-01,  2.09476694e-01, -6.19616844e-02,\n",
              "        -2.48295575e-01, -1.29705757e-01,  4.28440608e-03,\n",
              "         2.88206451e-02, -4.56496686e-01, -1.42892629e-01,\n",
              "        -1.13051981e-01,  4.34487820e-01, -9.61389542e-02,\n",
              "         9.21103656e-02, -2.93585479e-01,  6.12434149e-02,\n",
              "        -5.52873798e-02,  2.57769585e-01, -2.19036609e-01,\n",
              "         1.06306829e-01,  5.29970601e-02, -9.25305858e-02,\n",
              "         4.21437770e-02,  2.01240912e-01,  6.27128631e-02,\n",
              "         1.73523486e-01, -3.40247959e-01, -2.02036470e-01,\n",
              "         2.62188375e-01, -5.96101955e-02,  8.28803331e-02,\n",
              "        -1.67649910e-01,  3.51504713e-01,  4.71605420e-01,\n",
              "        -5.93992844e-02, -4.11726415e-01, -2.05126464e-01,\n",
              "        -4.47347648e-02, -2.92433500e-01, -5.28801799e-01,\n",
              "         2.39601284e-01,  1.79342419e-01,  3.37360054e-03,\n",
              "        -1.32276773e-01,  7.47516751e-02, -2.66257841e-02,\n",
              "        -1.95163250e-01, -9.16355178e-02, -1.75361171e-01]], dtype=float32)>"
            ]
          },
          "metadata": {},
          "execution_count": 98
        }
      ]
    },
    {
      "cell_type": "code",
      "execution_count": 99,
      "metadata": {
        "id": "F-8OhRHXMgkZ",
        "outputId": "c89271c3-e81e-442e-f4cc-f327e3a9d36f",
        "colab": {
          "base_uri": "https://localhost:8080/",
          "height": 72,
          "referenced_widgets": [
            "aa3021722e0840929958b96a7b021a4d",
            "894b07c4324c47d788680d2f57a7d50c",
            "553f7bcd863c4a779d84f7a6779ee32f",
            "0cb12645e75e4b68a194c8b0c7bb4dda",
            "ef29b44b707c40bfa7ea1b440cd5c4eb",
            "101be1b9e96d4f52acc12f03e7c9d02a",
            "ae031e801ca341cfb30b155cd9eb367d",
            "e4ec376abdf84d61987e5e26a0e2786e",
            "188e467502b0467587af86046f4ea9b7",
            "83f0d3feed5f45fd88746fee202253b1",
            "feeca99368bf46188ea0608dbcd1944f"
          ]
        }
      },
      "outputs": [
        {
          "output_type": "stream",
          "name": "stderr",
          "text": [
            "/usr/local/lib/python3.10/dist-packages/transformers/generation/tf_utils.py:465: UserWarning: `seed_generator` is deprecated and will be removed in a future version.\n",
            "  warnings.warn(\"`seed_generator` is deprecated and will be removed in a future version.\", UserWarning)\n"
          ]
        },
        {
          "output_type": "display_data",
          "data": {
            "text/plain": [
              "Map:   0%|          | 0/713 [00:00<?, ? examples/s]"
            ],
            "application/vnd.jupyter.widget-view+json": {
              "version_major": 2,
              "version_minor": 0,
              "model_id": "aa3021722e0840929958b96a7b021a4d"
            }
          },
          "metadata": {}
        }
      ],
      "source": [
        "embeddings_dataset = issues_dataset.map(\n",
        "    lambda x: {\"embeddings\": get_embeddings(x[\"alltext\"]).numpy()[0]}\n",
        ")"
      ]
    },
    {
      "cell_type": "code",
      "execution_count": 100,
      "metadata": {
        "id": "iis3Pr1hMgkZ",
        "outputId": "3cc3b4fd-3ae9-4b8d-a0ca-a6ff9cc1ef49",
        "colab": {
          "base_uri": "https://localhost:8080/",
          "height": 136,
          "referenced_widgets": [
            "0a05f693d3954c7fa570c6834eaad932",
            "e73191b3a90245118634c179723621d5",
            "21994980a12340559f4738f3dfdcf7cb",
            "b74099381bfb49be8b0ef3f556f3cfb9",
            "4644b7a83078487ea237ab7fbdce248e",
            "9ca394c9c5d642c7b450170142b48e9b",
            "c64e174f147244fca9fd0e08f2ace8e4",
            "91ef797fa8fd4c9a92c6f887f3ee833d",
            "11abae04feff4bd3878a99889d8fc705",
            "4278b97d88cc4635921af97a3e53ee3d",
            "3fef2937b62d41ce98ccb2f3766723da"
          ]
        }
      },
      "outputs": [
        {
          "output_type": "display_data",
          "data": {
            "text/plain": [
              "  0%|          | 0/1 [00:00<?, ?it/s]"
            ],
            "application/vnd.jupyter.widget-view+json": {
              "version_major": 2,
              "version_minor": 0,
              "model_id": "0a05f693d3954c7fa570c6834eaad932"
            }
          },
          "metadata": {}
        },
        {
          "output_type": "execute_result",
          "data": {
            "text/plain": [
              "Dataset({\n",
              "    features: ['html_url', 'title', 'comments', 'body', 'comment_length', 'alltext', '__index_level_0__', 'embeddings'],\n",
              "    num_rows: 713\n",
              "})"
            ]
          },
          "metadata": {},
          "execution_count": 100
        }
      ],
      "source": [
        "embeddings_dataset.add_faiss_index(column=\"embeddings\")"
      ]
    },
    {
      "cell_type": "code",
      "execution_count": 101,
      "metadata": {
        "id": "ZT5IgCYTMgkZ",
        "outputId": "fc423760-ca2e-4272-d2c3-f36b544f4700",
        "colab": {
          "base_uri": "https://localhost:8080/"
        }
      },
      "outputs": [
        {
          "output_type": "execute_result",
          "data": {
            "text/plain": [
              "(1, 768)"
            ]
          },
          "metadata": {},
          "execution_count": 101
        }
      ],
      "source": [
        "question = \"How can I load a dataset offline?\"\n",
        "question_embedding = get_embeddings([question]).numpy()\n",
        "question_embedding.shape"
      ]
    },
    {
      "cell_type": "code",
      "execution_count": 102,
      "metadata": {
        "id": "45z-uJTbMgka"
      },
      "outputs": [],
      "source": [
        "scores, samples = embeddings_dataset.get_nearest_examples(\n",
        "    \"embeddings\", question_embedding, k=5\n",
        ")"
      ]
    },
    {
      "cell_type": "code",
      "execution_count": 103,
      "metadata": {
        "id": "9iZ0r1x7Mgka"
      },
      "outputs": [],
      "source": [
        "import pandas as pd\n",
        "\n",
        "samples_df = pd.DataFrame.from_dict(samples)\n",
        "samples_df[\"scores\"] = scores\n",
        "samples_df.sort_values(\"scores\", ascending=False, inplace=True)"
      ]
    },
    {
      "cell_type": "code",
      "execution_count": 104,
      "metadata": {
        "id": "NRPW4_zQMgka",
        "outputId": "28912243-7f37-407f-f0b1-1db457bf1319",
        "colab": {
          "base_uri": "https://localhost:8080/"
        }
      },
      "outputs": [
        {
          "output_type": "stream",
          "name": "stdout",
          "text": [
            "COMMENT: ['Transferred to `datasets` based on the stack trace.'\n",
            " \"Hi @lkcao !\\r\\nYour issue is indeed related to `datasets`. In addition to installing the package manually, you will need to download the `text.py` script on your server. You'll find it (under `datasets/datasets/text`: https://github.com/huggingface/datasets/blob/master/datasets/text/text.py.\\r\\nThen you can change the line 221 of `run_mlm_new.py` into:\\r\\n```python\\r\\n  datasets = load_dataset('/path/to/text.py', data_files=data_files)\\r\\n```\\r\\nWhere `/path/to/text.py` is the path on the server where you saved the `text.py` script.\"\n",
            " \"We're working on including the local dataset builders (csv, text, json etc.) directly in the `datasets` package so that they can be used offline\"\n",
            " \"The local dataset builders (csv, text , json and pandas) are now part of the `datasets` package since #1726 :)\\r\\nYou can now use them offline\\r\\n```python\\r\\ndatasets = load_dataset('text', data_files=data_files)\\r\\n```\\r\\n\\r\\nWe'll do a new release soon\"\n",
            " \"> The local dataset builders (csv, text , json and pandas) are now part of the `datasets` package since #1726 :)\\r\\n> You can now use them offline\\r\\n> \\r\\n> ```python\\r\\n> datasets = load_dataset('text', data_files=data_files)\\r\\n> ```\\r\\n> \\r\\n> We'll do a new release soon\\r\\n\\r\\nso the new version release now?\"\n",
            " \"Yes it's been available since datasets 1.3.0 !\"]\n",
            "SCORE: 32.84013366699219\n",
            "TITLE: could not run models on a offline server successfully\n",
            "URL: https://github.com/huggingface/datasets/issues/1724\n",
            "==================================================\n",
            "\n",
            "COMMENT: [\"Thanks for reporting !\\r\\nWe should add support for servers without internet connection indeed\\r\\nI'll do that early next week\"\n",
            " 'Thanks, @lhoestq !\\r\\nPlease let me know when it is available. '\n",
            " 'Right now the recommended way is to create the dataset on a server with internet connection and then to save it and copy the serialized dataset to the server without internet connection.'\n",
            " '#652 should allow you to load text/json/csv/pandas datasets without an internet connection **IF** you\\'ve the dataset script locally.\\r\\n\\r\\nExample: \\r\\nIf you have `datasets/text/text.py` locally, then you can do `load_dataset(\"./datasets/text\", data_files=...)`']\n",
            "SCORE: 32.11018753051758\n",
            "TITLE: Cannot download dataset_info.json\n",
            "URL: https://github.com/huggingface/datasets/issues/647\n",
            "==================================================\n",
            "\n",
            "COMMENT: [\"Yes currently you need an internet connection because the lib tries to check for the etag of the dataset script online to see if you don't have it locally already.\\r\\n\\r\\nIf we add a way to store the etag/hash locally after the first download, it would allow users to first download the dataset with an internet connection, and still have it working without an internet connection.\\r\\n\\r\\nI'll let you know when we add this feature.\"]\n",
            "SCORE: 32.040042877197266\n",
            "TITLE: Downloaded datasets are not usable offline\n",
            "URL: https://github.com/huggingface/datasets/issues/761\n",
            "==================================================\n",
            "\n",
            "COMMENT: [\"Thanks for reporting and for all the details and suggestions.\\r\\n\\r\\nI'm totally in favor of having a HF_DATASETS_OFFLINE env variable to disable manually all the connection checks, remove retries etc.\\r\\n\\r\\nMoreover you may know that the use case that you are mentioning is already supported from `datasets` 1.3.0, i.e. you already can:\\r\\n- first load datasets and metrics from an instance with internet connection\\r\\n- then be able to reload datasets and metrics from another instance without connection (as long as the filesystem is shared)\\r\\n\\r\\nThis is already implemented, but currently it only works if the requests return a `ConnectionError` (or any error actually). Not sure why it would hang instead of returning an error.\\r\\n\\r\\nMaybe this is just a issue with the timeout value being not set or too high ?\\r\\nIs there a way I can have access to one of the instances on which there's this issue (we can discuss this offline) ?\\r\\n\"\n",
            " 'I\\'m on master, so using all the available bells and whistles already.\\r\\n\\r\\nIf you look at the common issues - it for example tries to look up files if they appear in `_PACKAGED_DATASETS_MODULES` which it shouldn\\'t do.\\r\\n\\r\\n--------------\\r\\n\\r\\nYes, there is a nuance to it. As I mentioned it\\'s firewalled - that is it has a network but making any calls outside - it just hangs in:\\r\\n\\r\\n```\\r\\nsin_addr=inet_addr(\"xx.xx.xx.xx\")}, [28->16]) = 0\\r\\nclose(5)                                = 0\\r\\nsocket(AF_INET, SOCK_STREAM|SOCK_CLOEXEC, IPPROTO_TCP) = 5\\r\\nconnect(5, {sa_family=AF_INET, sin_port=htons(3128), sin_addr=inet_addr(\"yy.yy.yy.yy\")}, 16^C) = ? ERESTARTSYS (To be restarted if SA_RESTART is set)\\r\\n```\\r\\nuntil it times out.\\r\\n\\r\\nThat\\'s why we need to be able to tell the software that there is no network to rely on even if there is one (good for testing too).\\r\\n\\r\\nSo what I\\'m thinking is that this is a simple matter of pre-ambling any network call wrappers with:\\r\\n\\r\\n```\\r\\nif HF_DATASETS_OFFLINE:\\r\\n    assert \"Attempting to make a network call under Offline mode\"\\r\\n```\\r\\n\\r\\nand then fixing up if there is anything else to fix to make it work.\\r\\n\\r\\n--------------\\r\\n\\r\\nOtherwise I think the only other problem I encountered is that we need to find a way to pre-cache metrics, for some reason it\\'s not caching it and wanting to fetch it from online.\\r\\n\\r\\nWhich is extra strange since it already has those files in the `datasets` repo itself that is on the filesystem.\\r\\n\\r\\nThe workaround I had to do is to copy `rouge/rouge.py` (with the parent folder) from the datasets repo to the current dir - and then it proceeded.'\n",
            " \"Ok understand better the hanging issue.\\r\\nI guess catching connection errors is not enough, we should also avoid all the hangings.\\r\\nCurrently the offline mode tests are only done by simulating an instant connection fail that returns an error, let's have another connection mock that hangs instead.\\r\\n\\r\\nI'll also take a look at why you had to do this for `rouge`.\\r\\n\"\n",
            " \"FWIW, I think instant failure on the behalf of a network call is the simplest solution to correctly represent the environment and having the caller to sort it out is the next thing to do, since here it is the case of having no functional network, it's just that the software doesn't know this is the case, because there is some network. So we just need to help it to bail out instantly rather than hang waiting for it to time out. And afterwards everything else you said.\"\n",
            " \"Update on this: \\r\\n\\r\\nI managed to create a mock environment for tests that makes the connections hang until timeout.\\r\\nI managed to reproduce the issue you're having in this environment.\\r\\n\\r\\nI'll update the offline test cases to also test the robustness to connection hangings, and make sure we set proper timeouts where it's needed in the code. This should cover the _automatic_ section you mentioned.\"\n",
            " \"Fabulous! I'm glad you were able to reproduce the issues, @lhoestq!\"\n",
            " \"I lost access to the firewalled setup, but I emulated it with:\\r\\n\\r\\n```\\r\\nsudo ufw enable\\r\\nsudo ufw default deny outgoing\\r\\n```\\r\\n(thanks @mfuntowicz)\\r\\n\\r\\nI was able to test `HF_DATASETS_OFFLINE=1` and it worked great - i.e. didn't try to reach out with it and used the cached files instead.\\r\\n\\r\\nThank you!\"]\n",
            "SCORE: 31.325769424438477\n",
            "TITLE: [firewalled env] OFFLINE mode\n",
            "URL: https://github.com/huggingface/datasets/issues/1939\n",
            "==================================================\n",
            "\n",
            "COMMENT: ['No comments ?'\n",
            " \"I think it would be very cool. I'm currently working on a cluster from Compute Canada, and I have internet access only when I'm not in the nodes where I run the scripts. So I was expecting to be able to use the wmt14 dataset until I realized I needed internet connection even if I downloaded the data already. I'm going to try option 2 you mention for now though! Thanks ;)\"\n",
            " \"Requiring online connection is a deal breaker in some cases unfortunately so it'd be great if offline mode is added similar to how `transformers` loads models offline fine.\\r\\n\\r\\n@mandubian's second bullet point suggests that there's a workaround allowing you to use your offline (custom?) dataset with `datasets`. Could you please elaborate on how that should look like?\"\n",
            " 'here is my way to load a dataset offline, but it **requires** an online machine\\r\\n1. (online machine)\\r\\n```\\r\\nimport datasets\\r\\ndata = datasets.load_dataset(...)\\r\\ndata.save_to_disk(/YOUR/DATASET/DIR)\\r\\n```\\r\\n2. copy the dir from online to the offline machine\\r\\n3. (offline machine)\\r\\n```\\r\\nimport datasets\\r\\ndata = datasets.load_from_disk(/SAVED/DATA/DIR)\\r\\n```\\r\\n\\r\\nHTH.'\n",
            " '> here is my way to load a dataset offline, but it **requires** an online machine\\n> \\n> 1. (online machine)\\n> \\n> ```\\n> \\n> import datasets\\n> \\n> data = datasets.load_dataset(...)\\n> \\n> data.save_to_disk(/YOUR/DATASET/DIR)\\n> \\n> ```\\n> \\n> 2. copy the dir from online to the offline machine\\n> \\n> 3. (offline machine)\\n> \\n> ```\\n> \\n> import datasets\\n> \\n> data = datasets.load_from_disk(/SAVED/DATA/DIR)\\n> \\n> ```\\n> \\n> \\n> \\n> HTH.\\n\\n'\n",
            " 'I opened a PR that allows to reload modules that have already been loaded once even if there\\'s no internet.\\r\\n\\r\\nLet me know if you know other ways that can make the offline mode experience better. I\\'d be happy to add them :) \\r\\n\\r\\nI already note the \"freeze\" modules option, to prevent local modules updates. It would be a cool feature.\\r\\n\\r\\n----------\\r\\n\\r\\n> @mandubian\\'s second bullet point suggests that there\\'s a workaround allowing you to use your offline (custom?) dataset with `datasets`. Could you please elaborate on how that should look like?\\r\\n\\r\\nIndeed `load_dataset` allows to load remote dataset script (squad, glue, etc.) but also you own local ones.\\r\\nFor example if you have a dataset script at `./my_dataset/my_dataset.py` then you can do\\r\\n```python\\r\\nload_dataset(\"./my_dataset\")\\r\\n```\\r\\nand the dataset script will generate your dataset once and for all.\\r\\n\\r\\n----------\\r\\n\\r\\nAbout I\\'m looking into having `csv`, `json`, `text`, `pandas` dataset builders already included in the `datasets` package, so that they are available offline by default, as opposed to the other datasets that require the script to be downloaded.\\r\\ncf #1724 '\n",
            " \"The local dataset builders (csv, text , json and pandas) are now part of the `datasets` package since #1726 :)\\r\\nYou can now use them offline\\r\\n```python\\r\\ndatasets = load_dataset('text', data_files=data_files)\\r\\n```\\r\\n\\r\\nWe'll do a new release soon\"]\n",
            "SCORE: 26.015329360961914\n",
            "TITLE: Discussion using datasets in offline mode\n",
            "URL: https://github.com/huggingface/datasets/issues/824\n",
            "==================================================\n",
            "\n"
          ]
        }
      ],
      "source": [
        "for _, row in samples_df.iterrows():\n",
        "    print(f\"COMMENT: {row.comments}\")\n",
        "    print(f\"SCORE: {row.scores}\")\n",
        "    print(f\"TITLE: {row.title}\")\n",
        "    print(f\"URL: {row.html_url}\")\n",
        "    print(\"=\" * 50)\n",
        "    print()"
      ]
    }
  ],
  "metadata": {
    "colab": {
      "name": "Semantic search with FAISS (TensorFlow)",
      "provenance": [],
      "gpuType": "T4"
    },
    "language_info": {
      "name": "python"
    },
    "kernelspec": {
      "name": "python3",
      "display_name": "Python 3"
    },
    "gpuClass": "standard",
    "accelerator": "GPU",
    "widgets": {
      "application/vnd.jupyter.widget-state+json": {
        "aa3021722e0840929958b96a7b021a4d": {
          "model_module": "@jupyter-widgets/controls",
          "model_name": "HBoxModel",
          "model_module_version": "1.5.0",
          "state": {
            "_dom_classes": [],
            "_model_module": "@jupyter-widgets/controls",
            "_model_module_version": "1.5.0",
            "_model_name": "HBoxModel",
            "_view_count": null,
            "_view_module": "@jupyter-widgets/controls",
            "_view_module_version": "1.5.0",
            "_view_name": "HBoxView",
            "box_style": "",
            "children": [
              "IPY_MODEL_894b07c4324c47d788680d2f57a7d50c",
              "IPY_MODEL_553f7bcd863c4a779d84f7a6779ee32f",
              "IPY_MODEL_0cb12645e75e4b68a194c8b0c7bb4dda"
            ],
            "layout": "IPY_MODEL_ef29b44b707c40bfa7ea1b440cd5c4eb"
          }
        },
        "894b07c4324c47d788680d2f57a7d50c": {
          "model_module": "@jupyter-widgets/controls",
          "model_name": "HTMLModel",
          "model_module_version": "1.5.0",
          "state": {
            "_dom_classes": [],
            "_model_module": "@jupyter-widgets/controls",
            "_model_module_version": "1.5.0",
            "_model_name": "HTMLModel",
            "_view_count": null,
            "_view_module": "@jupyter-widgets/controls",
            "_view_module_version": "1.5.0",
            "_view_name": "HTMLView",
            "description": "",
            "description_tooltip": null,
            "layout": "IPY_MODEL_101be1b9e96d4f52acc12f03e7c9d02a",
            "placeholder": "​",
            "style": "IPY_MODEL_ae031e801ca341cfb30b155cd9eb367d",
            "value": "Map: 100%"
          }
        },
        "553f7bcd863c4a779d84f7a6779ee32f": {
          "model_module": "@jupyter-widgets/controls",
          "model_name": "FloatProgressModel",
          "model_module_version": "1.5.0",
          "state": {
            "_dom_classes": [],
            "_model_module": "@jupyter-widgets/controls",
            "_model_module_version": "1.5.0",
            "_model_name": "FloatProgressModel",
            "_view_count": null,
            "_view_module": "@jupyter-widgets/controls",
            "_view_module_version": "1.5.0",
            "_view_name": "ProgressView",
            "bar_style": "",
            "description": "",
            "description_tooltip": null,
            "layout": "IPY_MODEL_e4ec376abdf84d61987e5e26a0e2786e",
            "max": 713,
            "min": 0,
            "orientation": "horizontal",
            "style": "IPY_MODEL_188e467502b0467587af86046f4ea9b7",
            "value": 713
          }
        },
        "0cb12645e75e4b68a194c8b0c7bb4dda": {
          "model_module": "@jupyter-widgets/controls",
          "model_name": "HTMLModel",
          "model_module_version": "1.5.0",
          "state": {
            "_dom_classes": [],
            "_model_module": "@jupyter-widgets/controls",
            "_model_module_version": "1.5.0",
            "_model_name": "HTMLModel",
            "_view_count": null,
            "_view_module": "@jupyter-widgets/controls",
            "_view_module_version": "1.5.0",
            "_view_name": "HTMLView",
            "description": "",
            "description_tooltip": null,
            "layout": "IPY_MODEL_83f0d3feed5f45fd88746fee202253b1",
            "placeholder": "​",
            "style": "IPY_MODEL_feeca99368bf46188ea0608dbcd1944f",
            "value": " 713/713 [02:49&lt;00:00,  4.96 examples/s]"
          }
        },
        "ef29b44b707c40bfa7ea1b440cd5c4eb": {
          "model_module": "@jupyter-widgets/base",
          "model_name": "LayoutModel",
          "model_module_version": "1.2.0",
          "state": {
            "_model_module": "@jupyter-widgets/base",
            "_model_module_version": "1.2.0",
            "_model_name": "LayoutModel",
            "_view_count": null,
            "_view_module": "@jupyter-widgets/base",
            "_view_module_version": "1.2.0",
            "_view_name": "LayoutView",
            "align_content": null,
            "align_items": null,
            "align_self": null,
            "border": null,
            "bottom": null,
            "display": null,
            "flex": null,
            "flex_flow": null,
            "grid_area": null,
            "grid_auto_columns": null,
            "grid_auto_flow": null,
            "grid_auto_rows": null,
            "grid_column": null,
            "grid_gap": null,
            "grid_row": null,
            "grid_template_areas": null,
            "grid_template_columns": null,
            "grid_template_rows": null,
            "height": null,
            "justify_content": null,
            "justify_items": null,
            "left": null,
            "margin": null,
            "max_height": null,
            "max_width": null,
            "min_height": null,
            "min_width": null,
            "object_fit": null,
            "object_position": null,
            "order": null,
            "overflow": null,
            "overflow_x": null,
            "overflow_y": null,
            "padding": null,
            "right": null,
            "top": null,
            "visibility": "hidden",
            "width": null
          }
        },
        "101be1b9e96d4f52acc12f03e7c9d02a": {
          "model_module": "@jupyter-widgets/base",
          "model_name": "LayoutModel",
          "model_module_version": "1.2.0",
          "state": {
            "_model_module": "@jupyter-widgets/base",
            "_model_module_version": "1.2.0",
            "_model_name": "LayoutModel",
            "_view_count": null,
            "_view_module": "@jupyter-widgets/base",
            "_view_module_version": "1.2.0",
            "_view_name": "LayoutView",
            "align_content": null,
            "align_items": null,
            "align_self": null,
            "border": null,
            "bottom": null,
            "display": null,
            "flex": null,
            "flex_flow": null,
            "grid_area": null,
            "grid_auto_columns": null,
            "grid_auto_flow": null,
            "grid_auto_rows": null,
            "grid_column": null,
            "grid_gap": null,
            "grid_row": null,
            "grid_template_areas": null,
            "grid_template_columns": null,
            "grid_template_rows": null,
            "height": null,
            "justify_content": null,
            "justify_items": null,
            "left": null,
            "margin": null,
            "max_height": null,
            "max_width": null,
            "min_height": null,
            "min_width": null,
            "object_fit": null,
            "object_position": null,
            "order": null,
            "overflow": null,
            "overflow_x": null,
            "overflow_y": null,
            "padding": null,
            "right": null,
            "top": null,
            "visibility": null,
            "width": null
          }
        },
        "ae031e801ca341cfb30b155cd9eb367d": {
          "model_module": "@jupyter-widgets/controls",
          "model_name": "DescriptionStyleModel",
          "model_module_version": "1.5.0",
          "state": {
            "_model_module": "@jupyter-widgets/controls",
            "_model_module_version": "1.5.0",
            "_model_name": "DescriptionStyleModel",
            "_view_count": null,
            "_view_module": "@jupyter-widgets/base",
            "_view_module_version": "1.2.0",
            "_view_name": "StyleView",
            "description_width": ""
          }
        },
        "e4ec376abdf84d61987e5e26a0e2786e": {
          "model_module": "@jupyter-widgets/base",
          "model_name": "LayoutModel",
          "model_module_version": "1.2.0",
          "state": {
            "_model_module": "@jupyter-widgets/base",
            "_model_module_version": "1.2.0",
            "_model_name": "LayoutModel",
            "_view_count": null,
            "_view_module": "@jupyter-widgets/base",
            "_view_module_version": "1.2.0",
            "_view_name": "LayoutView",
            "align_content": null,
            "align_items": null,
            "align_self": null,
            "border": null,
            "bottom": null,
            "display": null,
            "flex": null,
            "flex_flow": null,
            "grid_area": null,
            "grid_auto_columns": null,
            "grid_auto_flow": null,
            "grid_auto_rows": null,
            "grid_column": null,
            "grid_gap": null,
            "grid_row": null,
            "grid_template_areas": null,
            "grid_template_columns": null,
            "grid_template_rows": null,
            "height": null,
            "justify_content": null,
            "justify_items": null,
            "left": null,
            "margin": null,
            "max_height": null,
            "max_width": null,
            "min_height": null,
            "min_width": null,
            "object_fit": null,
            "object_position": null,
            "order": null,
            "overflow": null,
            "overflow_x": null,
            "overflow_y": null,
            "padding": null,
            "right": null,
            "top": null,
            "visibility": null,
            "width": null
          }
        },
        "188e467502b0467587af86046f4ea9b7": {
          "model_module": "@jupyter-widgets/controls",
          "model_name": "ProgressStyleModel",
          "model_module_version": "1.5.0",
          "state": {
            "_model_module": "@jupyter-widgets/controls",
            "_model_module_version": "1.5.0",
            "_model_name": "ProgressStyleModel",
            "_view_count": null,
            "_view_module": "@jupyter-widgets/base",
            "_view_module_version": "1.2.0",
            "_view_name": "StyleView",
            "bar_color": null,
            "description_width": ""
          }
        },
        "83f0d3feed5f45fd88746fee202253b1": {
          "model_module": "@jupyter-widgets/base",
          "model_name": "LayoutModel",
          "model_module_version": "1.2.0",
          "state": {
            "_model_module": "@jupyter-widgets/base",
            "_model_module_version": "1.2.0",
            "_model_name": "LayoutModel",
            "_view_count": null,
            "_view_module": "@jupyter-widgets/base",
            "_view_module_version": "1.2.0",
            "_view_name": "LayoutView",
            "align_content": null,
            "align_items": null,
            "align_self": null,
            "border": null,
            "bottom": null,
            "display": null,
            "flex": null,
            "flex_flow": null,
            "grid_area": null,
            "grid_auto_columns": null,
            "grid_auto_flow": null,
            "grid_auto_rows": null,
            "grid_column": null,
            "grid_gap": null,
            "grid_row": null,
            "grid_template_areas": null,
            "grid_template_columns": null,
            "grid_template_rows": null,
            "height": null,
            "justify_content": null,
            "justify_items": null,
            "left": null,
            "margin": null,
            "max_height": null,
            "max_width": null,
            "min_height": null,
            "min_width": null,
            "object_fit": null,
            "object_position": null,
            "order": null,
            "overflow": null,
            "overflow_x": null,
            "overflow_y": null,
            "padding": null,
            "right": null,
            "top": null,
            "visibility": null,
            "width": null
          }
        },
        "feeca99368bf46188ea0608dbcd1944f": {
          "model_module": "@jupyter-widgets/controls",
          "model_name": "DescriptionStyleModel",
          "model_module_version": "1.5.0",
          "state": {
            "_model_module": "@jupyter-widgets/controls",
            "_model_module_version": "1.5.0",
            "_model_name": "DescriptionStyleModel",
            "_view_count": null,
            "_view_module": "@jupyter-widgets/base",
            "_view_module_version": "1.2.0",
            "_view_name": "StyleView",
            "description_width": ""
          }
        },
        "0a05f693d3954c7fa570c6834eaad932": {
          "model_module": "@jupyter-widgets/controls",
          "model_name": "HBoxModel",
          "model_module_version": "1.5.0",
          "state": {
            "_dom_classes": [],
            "_model_module": "@jupyter-widgets/controls",
            "_model_module_version": "1.5.0",
            "_model_name": "HBoxModel",
            "_view_count": null,
            "_view_module": "@jupyter-widgets/controls",
            "_view_module_version": "1.5.0",
            "_view_name": "HBoxView",
            "box_style": "",
            "children": [
              "IPY_MODEL_e73191b3a90245118634c179723621d5",
              "IPY_MODEL_21994980a12340559f4738f3dfdcf7cb",
              "IPY_MODEL_b74099381bfb49be8b0ef3f556f3cfb9"
            ],
            "layout": "IPY_MODEL_4644b7a83078487ea237ab7fbdce248e"
          }
        },
        "e73191b3a90245118634c179723621d5": {
          "model_module": "@jupyter-widgets/controls",
          "model_name": "HTMLModel",
          "model_module_version": "1.5.0",
          "state": {
            "_dom_classes": [],
            "_model_module": "@jupyter-widgets/controls",
            "_model_module_version": "1.5.0",
            "_model_name": "HTMLModel",
            "_view_count": null,
            "_view_module": "@jupyter-widgets/controls",
            "_view_module_version": "1.5.0",
            "_view_name": "HTMLView",
            "description": "",
            "description_tooltip": null,
            "layout": "IPY_MODEL_9ca394c9c5d642c7b450170142b48e9b",
            "placeholder": "​",
            "style": "IPY_MODEL_c64e174f147244fca9fd0e08f2ace8e4",
            "value": "100%"
          }
        },
        "21994980a12340559f4738f3dfdcf7cb": {
          "model_module": "@jupyter-widgets/controls",
          "model_name": "FloatProgressModel",
          "model_module_version": "1.5.0",
          "state": {
            "_dom_classes": [],
            "_model_module": "@jupyter-widgets/controls",
            "_model_module_version": "1.5.0",
            "_model_name": "FloatProgressModel",
            "_view_count": null,
            "_view_module": "@jupyter-widgets/controls",
            "_view_module_version": "1.5.0",
            "_view_name": "ProgressView",
            "bar_style": "success",
            "description": "",
            "description_tooltip": null,
            "layout": "IPY_MODEL_91ef797fa8fd4c9a92c6f887f3ee833d",
            "max": 1,
            "min": 0,
            "orientation": "horizontal",
            "style": "IPY_MODEL_11abae04feff4bd3878a99889d8fc705",
            "value": 1
          }
        },
        "b74099381bfb49be8b0ef3f556f3cfb9": {
          "model_module": "@jupyter-widgets/controls",
          "model_name": "HTMLModel",
          "model_module_version": "1.5.0",
          "state": {
            "_dom_classes": [],
            "_model_module": "@jupyter-widgets/controls",
            "_model_module_version": "1.5.0",
            "_model_name": "HTMLModel",
            "_view_count": null,
            "_view_module": "@jupyter-widgets/controls",
            "_view_module_version": "1.5.0",
            "_view_name": "HTMLView",
            "description": "",
            "description_tooltip": null,
            "layout": "IPY_MODEL_4278b97d88cc4635921af97a3e53ee3d",
            "placeholder": "​",
            "style": "IPY_MODEL_3fef2937b62d41ce98ccb2f3766723da",
            "value": " 1/1 [00:00&lt;00:00, 48.27it/s]"
          }
        },
        "4644b7a83078487ea237ab7fbdce248e": {
          "model_module": "@jupyter-widgets/base",
          "model_name": "LayoutModel",
          "model_module_version": "1.2.0",
          "state": {
            "_model_module": "@jupyter-widgets/base",
            "_model_module_version": "1.2.0",
            "_model_name": "LayoutModel",
            "_view_count": null,
            "_view_module": "@jupyter-widgets/base",
            "_view_module_version": "1.2.0",
            "_view_name": "LayoutView",
            "align_content": null,
            "align_items": null,
            "align_self": null,
            "border": null,
            "bottom": null,
            "display": null,
            "flex": null,
            "flex_flow": null,
            "grid_area": null,
            "grid_auto_columns": null,
            "grid_auto_flow": null,
            "grid_auto_rows": null,
            "grid_column": null,
            "grid_gap": null,
            "grid_row": null,
            "grid_template_areas": null,
            "grid_template_columns": null,
            "grid_template_rows": null,
            "height": null,
            "justify_content": null,
            "justify_items": null,
            "left": null,
            "margin": null,
            "max_height": null,
            "max_width": null,
            "min_height": null,
            "min_width": null,
            "object_fit": null,
            "object_position": null,
            "order": null,
            "overflow": null,
            "overflow_x": null,
            "overflow_y": null,
            "padding": null,
            "right": null,
            "top": null,
            "visibility": null,
            "width": null
          }
        },
        "9ca394c9c5d642c7b450170142b48e9b": {
          "model_module": "@jupyter-widgets/base",
          "model_name": "LayoutModel",
          "model_module_version": "1.2.0",
          "state": {
            "_model_module": "@jupyter-widgets/base",
            "_model_module_version": "1.2.0",
            "_model_name": "LayoutModel",
            "_view_count": null,
            "_view_module": "@jupyter-widgets/base",
            "_view_module_version": "1.2.0",
            "_view_name": "LayoutView",
            "align_content": null,
            "align_items": null,
            "align_self": null,
            "border": null,
            "bottom": null,
            "display": null,
            "flex": null,
            "flex_flow": null,
            "grid_area": null,
            "grid_auto_columns": null,
            "grid_auto_flow": null,
            "grid_auto_rows": null,
            "grid_column": null,
            "grid_gap": null,
            "grid_row": null,
            "grid_template_areas": null,
            "grid_template_columns": null,
            "grid_template_rows": null,
            "height": null,
            "justify_content": null,
            "justify_items": null,
            "left": null,
            "margin": null,
            "max_height": null,
            "max_width": null,
            "min_height": null,
            "min_width": null,
            "object_fit": null,
            "object_position": null,
            "order": null,
            "overflow": null,
            "overflow_x": null,
            "overflow_y": null,
            "padding": null,
            "right": null,
            "top": null,
            "visibility": null,
            "width": null
          }
        },
        "c64e174f147244fca9fd0e08f2ace8e4": {
          "model_module": "@jupyter-widgets/controls",
          "model_name": "DescriptionStyleModel",
          "model_module_version": "1.5.0",
          "state": {
            "_model_module": "@jupyter-widgets/controls",
            "_model_module_version": "1.5.0",
            "_model_name": "DescriptionStyleModel",
            "_view_count": null,
            "_view_module": "@jupyter-widgets/base",
            "_view_module_version": "1.2.0",
            "_view_name": "StyleView",
            "description_width": ""
          }
        },
        "91ef797fa8fd4c9a92c6f887f3ee833d": {
          "model_module": "@jupyter-widgets/base",
          "model_name": "LayoutModel",
          "model_module_version": "1.2.0",
          "state": {
            "_model_module": "@jupyter-widgets/base",
            "_model_module_version": "1.2.0",
            "_model_name": "LayoutModel",
            "_view_count": null,
            "_view_module": "@jupyter-widgets/base",
            "_view_module_version": "1.2.0",
            "_view_name": "LayoutView",
            "align_content": null,
            "align_items": null,
            "align_self": null,
            "border": null,
            "bottom": null,
            "display": null,
            "flex": null,
            "flex_flow": null,
            "grid_area": null,
            "grid_auto_columns": null,
            "grid_auto_flow": null,
            "grid_auto_rows": null,
            "grid_column": null,
            "grid_gap": null,
            "grid_row": null,
            "grid_template_areas": null,
            "grid_template_columns": null,
            "grid_template_rows": null,
            "height": null,
            "justify_content": null,
            "justify_items": null,
            "left": null,
            "margin": null,
            "max_height": null,
            "max_width": null,
            "min_height": null,
            "min_width": null,
            "object_fit": null,
            "object_position": null,
            "order": null,
            "overflow": null,
            "overflow_x": null,
            "overflow_y": null,
            "padding": null,
            "right": null,
            "top": null,
            "visibility": null,
            "width": null
          }
        },
        "11abae04feff4bd3878a99889d8fc705": {
          "model_module": "@jupyter-widgets/controls",
          "model_name": "ProgressStyleModel",
          "model_module_version": "1.5.0",
          "state": {
            "_model_module": "@jupyter-widgets/controls",
            "_model_module_version": "1.5.0",
            "_model_name": "ProgressStyleModel",
            "_view_count": null,
            "_view_module": "@jupyter-widgets/base",
            "_view_module_version": "1.2.0",
            "_view_name": "StyleView",
            "bar_color": null,
            "description_width": ""
          }
        },
        "4278b97d88cc4635921af97a3e53ee3d": {
          "model_module": "@jupyter-widgets/base",
          "model_name": "LayoutModel",
          "model_module_version": "1.2.0",
          "state": {
            "_model_module": "@jupyter-widgets/base",
            "_model_module_version": "1.2.0",
            "_model_name": "LayoutModel",
            "_view_count": null,
            "_view_module": "@jupyter-widgets/base",
            "_view_module_version": "1.2.0",
            "_view_name": "LayoutView",
            "align_content": null,
            "align_items": null,
            "align_self": null,
            "border": null,
            "bottom": null,
            "display": null,
            "flex": null,
            "flex_flow": null,
            "grid_area": null,
            "grid_auto_columns": null,
            "grid_auto_flow": null,
            "grid_auto_rows": null,
            "grid_column": null,
            "grid_gap": null,
            "grid_row": null,
            "grid_template_areas": null,
            "grid_template_columns": null,
            "grid_template_rows": null,
            "height": null,
            "justify_content": null,
            "justify_items": null,
            "left": null,
            "margin": null,
            "max_height": null,
            "max_width": null,
            "min_height": null,
            "min_width": null,
            "object_fit": null,
            "object_position": null,
            "order": null,
            "overflow": null,
            "overflow_x": null,
            "overflow_y": null,
            "padding": null,
            "right": null,
            "top": null,
            "visibility": null,
            "width": null
          }
        },
        "3fef2937b62d41ce98ccb2f3766723da": {
          "model_module": "@jupyter-widgets/controls",
          "model_name": "DescriptionStyleModel",
          "model_module_version": "1.5.0",
          "state": {
            "_model_module": "@jupyter-widgets/controls",
            "_model_module_version": "1.5.0",
            "_model_name": "DescriptionStyleModel",
            "_view_count": null,
            "_view_module": "@jupyter-widgets/base",
            "_view_module_version": "1.2.0",
            "_view_name": "StyleView",
            "description_width": ""
          }
        }
      }
    }
  },
  "nbformat": 4,
  "nbformat_minor": 0
}