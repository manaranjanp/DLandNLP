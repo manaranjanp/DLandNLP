{
 "cells": [
  {
   "cell_type": "code",
   "execution_count": 5,
   "id": "15549f6d",
   "metadata": {},
   "outputs": [],
   "source": [
    "import pandas as pd"
   ]
  },
  {
   "cell_type": "code",
   "execution_count": 15,
   "id": "b9374829",
   "metadata": {},
   "outputs": [],
   "source": [
    "fin_df = pd.read_csv('IndianFinancialNews.csv')"
   ]
  },
  {
   "cell_type": "code",
   "execution_count": 16,
   "id": "949fa27b",
   "metadata": {},
   "outputs": [],
   "source": [
    "fin_df.columns = ['Unnamed: 0', 'Date', 'Title', 'row_data']"
   ]
  },
  {
   "cell_type": "code",
   "execution_count": 22,
   "id": "27200386",
   "metadata": {},
   "outputs": [],
   "source": [
    "fin_df[['row_data']].sample(20).to_json('finsmall.json', orient=\"table\", index = False)"
   ]
  },
  {
   "cell_type": "code",
   "execution_count": 23,
   "id": "0944ff07",
   "metadata": {},
   "outputs": [],
   "source": [
    "comments_df = pd.read_csv('IPL_Match_Highlights_Commentary.csv')"
   ]
  },
  {
   "cell_type": "code",
   "execution_count": 24,
   "id": "9496b6da",
   "metadata": {},
   "outputs": [
    {
     "data": {
      "text/html": [
       "<div>\n",
       "<style scoped>\n",
       "    .dataframe tbody tr th:only-of-type {\n",
       "        vertical-align: middle;\n",
       "    }\n",
       "\n",
       "    .dataframe tbody tr th {\n",
       "        vertical-align: top;\n",
       "    }\n",
       "\n",
       "    .dataframe thead th {\n",
       "        text-align: right;\n",
       "    }\n",
       "</style>\n",
       "<table border=\"1\" class=\"dataframe\">\n",
       "  <thead>\n",
       "    <tr style=\"text-align: right;\">\n",
       "      <th></th>\n",
       "      <th>Match_id</th>\n",
       "      <th>Team</th>\n",
       "      <th>Over_num</th>\n",
       "      <th>Commentary</th>\n",
       "      <th>batsman</th>\n",
       "      <th>score</th>\n",
       "    </tr>\n",
       "  </thead>\n",
       "  <tbody>\n",
       "    <tr>\n",
       "      <th>0</th>\n",
       "      <td>4281444</td>\n",
       "      <td>RCB 1st Inns</td>\n",
       "      <td>0.5</td>\n",
       "      <td>Nehra to Mandeep, FOUR, first boundary for Man...</td>\n",
       "      <td>Nehra to Mandeep</td>\n",
       "      <td>FOUR</td>\n",
       "    </tr>\n",
       "    <tr>\n",
       "      <th>1</th>\n",
       "      <td>4281444</td>\n",
       "      <td>RCB 1st Inns</td>\n",
       "      <td>1.0</td>\n",
       "      <td>Nehra to Mandeep, FOUR, back-to-back boundarie...</td>\n",
       "      <td>Nehra to Mandeep</td>\n",
       "      <td>FOUR</td>\n",
       "    </tr>\n",
       "    <tr>\n",
       "      <th>2</th>\n",
       "      <td>4281444</td>\n",
       "      <td>RCB 1st Inns</td>\n",
       "      <td>10.0</td>\n",
       "      <td>Henriques to Kedar Jadhav, FOUR, hit straight ...</td>\n",
       "      <td>Henriques to Kedar Jadhav</td>\n",
       "      <td>FOUR</td>\n",
       "    </tr>\n",
       "    <tr>\n",
       "      <th>3</th>\n",
       "      <td>4281444</td>\n",
       "      <td>RCB 1st Inns</td>\n",
       "      <td>10.4</td>\n",
       "      <td>Nehra to Kedar Jadhav, FOUR, another full toss...</td>\n",
       "      <td>Nehra to Kedar Jadhav</td>\n",
       "      <td>FOUR</td>\n",
       "    </tr>\n",
       "    <tr>\n",
       "      <th>4</th>\n",
       "      <td>4281444</td>\n",
       "      <td>RCB 1st Inns</td>\n",
       "      <td>10.5</td>\n",
       "      <td>Nehra to Kedar Jadhav, FOUR, four more. Jadhav...</td>\n",
       "      <td>Nehra to Kedar Jadhav</td>\n",
       "      <td>FOUR</td>\n",
       "    </tr>\n",
       "  </tbody>\n",
       "</table>\n",
       "</div>"
      ],
      "text/plain": [
       "   Match_id          Team  Over_num  \\\n",
       "0   4281444  RCB 1st Inns       0.5   \n",
       "1   4281444  RCB 1st Inns       1.0   \n",
       "2   4281444  RCB 1st Inns      10.0   \n",
       "3   4281444  RCB 1st Inns      10.4   \n",
       "4   4281444  RCB 1st Inns      10.5   \n",
       "\n",
       "                                          Commentary  \\\n",
       "0  Nehra to Mandeep, FOUR, first boundary for Man...   \n",
       "1  Nehra to Mandeep, FOUR, back-to-back boundarie...   \n",
       "2  Henriques to Kedar Jadhav, FOUR, hit straight ...   \n",
       "3  Nehra to Kedar Jadhav, FOUR, another full toss...   \n",
       "4  Nehra to Kedar Jadhav, FOUR, four more. Jadhav...   \n",
       "\n",
       "                     batsman score  \n",
       "0           Nehra to Mandeep  FOUR  \n",
       "1           Nehra to Mandeep  FOUR  \n",
       "2  Henriques to Kedar Jadhav  FOUR  \n",
       "3      Nehra to Kedar Jadhav  FOUR  \n",
       "4      Nehra to Kedar Jadhav  FOUR  "
      ]
     },
     "execution_count": 24,
     "metadata": {},
     "output_type": "execute_result"
    }
   ],
   "source": [
    "comments_df.head(5)"
   ]
  },
  {
   "cell_type": "code",
   "execution_count": 25,
   "id": "c310da4d",
   "metadata": {},
   "outputs": [],
   "source": [
    "comments_df[['Commentary']].sample(50).to_csv('commentary.csv', index = False)"
   ]
  },
  {
   "cell_type": "code",
   "execution_count": 26,
   "id": "384d19f0",
   "metadata": {},
   "outputs": [],
   "source": [
    "comments_df[['Commentary']].sample(50).to_csv('commentary_test.csv', index = False)"
   ]
  },
  {
   "cell_type": "code",
   "execution_count": null,
   "id": "3eb4d708",
   "metadata": {},
   "outputs": [],
   "source": []
  }
 ],
 "metadata": {
  "kernelspec": {
   "display_name": "Python 3 (ipykernel)",
   "language": "python",
   "name": "python3"
  },
  "language_info": {
   "codemirror_mode": {
    "name": "ipython",
    "version": 3
   },
   "file_extension": ".py",
   "mimetype": "text/x-python",
   "name": "python",
   "nbconvert_exporter": "python",
   "pygments_lexer": "ipython3",
   "version": "3.10.9"
  }
 },
 "nbformat": 4,
 "nbformat_minor": 5
}
